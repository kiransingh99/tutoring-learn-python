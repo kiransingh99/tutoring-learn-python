{
 "cells": [
  {
   "cell_type": "markdown",
   "metadata": {},
   "source": [
    "# 7. Exercises: Numerical computation"
   ]
  },
  {
   "cell_type": "code",
   "execution_count": null,
   "metadata": {},
   "outputs": [],
   "source": [
    "import numpy as np"
   ]
  },
  {
   "cell_type": "markdown",
   "metadata": {},
   "source": [
    "## Exercise 07.1"
   ]
  },
  {
   "cell_type": "markdown",
   "metadata": {},
   "source": [
    "Create two very long NumPy arrays ```x``` and ```y``` and sum the arrays using:\n",
    "\n",
    "1. The NumPy addition syntax, ```z = x + y```; and\n",
    "2. A ```for``` loop that computes the sum entry-by-entry\n",
    "\n",
    "Compare the time required for the two approaches for vectors of different lengths (use a very long vector for the timing). The values of the array entries are not important for this test. Use ```%time``` to report the time."
   ]
  },
  {
   "cell_type": "markdown",
   "metadata": {},
   "source": [
    "#### (1) Add two vectors using built-in addition operator:"
   ]
  },
  {
   "cell_type": "code",
   "execution_count": null,
   "metadata": {
    "deletable": false,
    "nbgrader": {
     "cell_type": "code",
     "checksum": "4b3a6fbbfcbe89681e9e2f04cab73d67",
     "grade": false,
     "grade_id": "cell-2c856e54f7c3340e",
     "locked": false,
     "schema_version": 3,
     "solution": true
    }
   },
   "outputs": [],
   "source": [
    "x = np.random.rand(10000000)\n",
    "y = np.random.rand(10000000)\n",
    "\n",
    "z1 = [0] * len(x)\n",
    "\n",
    "%time z1 = np.add(x, y)"
   ]
  },
  {
   "cell_type": "markdown",
   "metadata": {},
   "source": [
    "#### (2) Add two vectors using own implementation:"
   ]
  },
  {
   "cell_type": "code",
   "execution_count": null,
   "metadata": {
    "deletable": false,
    "nbgrader": {
     "cell_type": "code",
     "checksum": "f5195f8b039c21a10b079fa7129adf0a",
     "grade": false,
     "grade_id": "cell-f34614f9f0068cc4",
     "locked": false,
     "schema_version": 3,
     "solution": true
    }
   },
   "outputs": [],
   "source": [
    "z2 = [0] * len(x)\n",
    "\n",
    "%time z2 = [a + b for a,b in zip(x, y)]"
   ]
  },
  {
   "cell_type": "code",
   "execution_count": null,
   "metadata": {},
   "outputs": [],
   "source": [
    "z3 = [0] * len(x)"
   ]
  },
  {
   "cell_type": "code",
   "execution_count": null,
   "metadata": {},
   "outputs": [],
   "source": [
    "%%time\n",
    "for i in range(len(x)):\n",
    "    z3[i] = x[i] + y[i]"
   ]
  },
  {
   "cell_type": "markdown",
   "metadata": {},
   "source": [
    "### Optional extension: just-in-time (JIT) compilation"
   ]
  },
  {
   "cell_type": "markdown",
   "metadata": {},
   "source": [
    "You will see a large difference in the time required between your NumPy and 'plain' Python implementations. This is due to Python being an *interpreted* language as opposed to a *compiled* language. A way to speed up plain Python implementions is to convert the interpreted Python code into compiled code. A tool for doing this is [Numba](https://numba.pydata.org/).\n",
    "\n",
    "Below is an example using Numba and JIT to accelerate a computation:"
   ]
  },
  {
   "cell_type": "code",
   "execution_count": null,
   "metadata": {},
   "outputs": [],
   "source": [
    "!pip -q install numba\n",
    "import numba\n",
    "import math\n",
    "\n",
    "def compute_sine_native(x):\n",
    "    \"\"\"Computes the sine of each number in a list.\"\"\"\n",
    "    z = np.zeros(len(x))\n",
    "    for i in range(len(z)):\n",
    "        z[i] = math.sin(x[i])\n",
    "    return z\n",
    "\n",
    "@numba.jit\n",
    "def compute_sine_jit(x):\n",
    "    \"\"\"Computes the sine of each number in a list using JIT.\"\"\"\n",
    "    z = np.zeros(len(x))\n",
    "    for i in range(len(z)):\n",
    "        z[i] = math.sin(x[i])\n",
    "    return z\n",
    "\n",
    "x = np.ones(10000000)\n",
    "%time z = compute_sine_native(x)\n",
    "compute_sine_jit(x)\n",
    "%time z = compute_sine_jit(x)"
   ]
  },
  {
   "cell_type": "markdown",
   "metadata": {},
   "source": [
    "**Task:** Test if Numba can be used to accelerate your implementation that uses indexing to sum two arrays, and by how much."
   ]
  },
  {
   "cell_type": "code",
   "execution_count": null,
   "metadata": {},
   "outputs": [],
   "source": [
    "@numba.jit\n",
    "def add_vectors(x, y):\n",
    "    \"\"\"Adds twp vectors of arbitrary length using JIT.\"\"\"\n",
    "    z = [0] * len(x)\n",
    "    z = [a + b for a,b in zip(x, y)]\n",
    "    return z\n",
    "\n",
    "x = np.random.rand(10000000)\n",
    "y = np.random.rand(10000000)\n",
    "\n",
    "%time z = add_vectors(x, y)"
   ]
  },
  {
   "cell_type": "markdown",
   "metadata": {},
   "source": [
    "## Exercise 07.2"
   ]
  },
  {
   "cell_type": "markdown",
   "metadata": {},
   "source": [
    "Anonymised scores (out of 60) for an examination are stored in a NumPy array. Write:\n",
    "\n",
    "1. A function that takes a NumPy array of the raw scores and returns the scores as percentages, sorted from lowest to highest (try using ```scores.sort()```, where ```scores``` is a NumPy array holding the scores).\n",
    "\n",
    "2. A function that returns the maximum, minimum and mean of the raw scores as a dictionary with the keys ```min```, ```max``` and ```mean```. Use the NumPy array methods (functions) ```min()```, ```max()``` and ```mean()``` to do the computation, e.g. ```max = scores.max()```.\n",
    "\n",
    "   Design your function for the min, max and mean to optionally exclude the highest and lowest scores from the computation of the min, max and mean.\n",
    "\n",
    "   *Hint:* sort the array of scores and use array slicing to exclude the first and the last entries."
   ]
  },
  {
   "cell_type": "code",
   "execution_count": null,
   "metadata": {
    "deletable": false,
    "nbgrader": {
     "cell_type": "code",
     "checksum": "0d3f6132335348940f562c8a70c520e9",
     "grade": false,
     "grade_id": "cell-169ebae60810c6be",
     "locked": false,
     "schema_version": 3,
     "solution": true
    }
   },
   "outputs": [],
   "source": [
    "def to_percentage_and_sort(scores):\n",
    "    \"\"\"Turns a list of scores out of 60 into a sorted\n",
    "       list of percentages.\"\"\"\n",
    "    scores.sort()\n",
    "    percentages = np.divide(scores, 0.6)\n",
    "    return percentages\n",
    "\n",
    "def statistics(scores, exclude=False):\n",
    "    \"\"\"Provide statistics on a list of scores\"\"\"\n",
    "    if exclude:\n",
    "        scores.sort()\n",
    "        sorted_scores = scores[1:-1]\n",
    "    else:\n",
    "        scores.sort()\n",
    "        sorted_scores = scores[:]\n",
    "\n",
    "    min = sorted_scores.min()\n",
    "    max = sorted_scores.max()\n",
    "    mean = sorted_scores.mean()\n",
    "    stats = {\"min\": min,\n",
    "            \"max\": max,\n",
    "            \"mean\": mean,\n",
    "            }\n",
    "\n",
    "    return stats"
   ]
  },
  {
   "cell_type": "code",
   "execution_count": null,
   "metadata": {
    "deletable": false,
    "editable": false,
    "nbgrader": {
     "cell_type": "code",
     "checksum": "49817c794fad305adbe95251448b7bf2",
     "grade": true,
     "grade_id": "cell-af0b6fd8a3cadb1a",
     "locked": true,
     "points": 0,
     "schema_version": 3,
     "solution": false
    }
   },
   "outputs": [],
   "source": [
    "scores = np.array([58.0, 35.0, 24.0, 42, 7.8])\n",
    "assert np.isclose(to_percentage_and_sort(scores), [ 13.0, 40.0, 58.33333333,  70.0, 96.66666667]).all()\n",
    "\n",
    "s0 = statistics(scores)\n",
    "assert round(s0[\"min\"] - 7.8, 10) == 0.0\n",
    "assert round(s0[\"mean\"] - 33.36, 10) == 0.0\n",
    "assert round(s0[\"max\"] - 58.0, 10) == 0.0\n",
    "\n",
    "s1 = statistics(scores, True)\n",
    "assert round(s1[\"min\"] - 24.0, 10) == 0.0\n",
    "assert round(s1[\"mean\"] - 33.666666666666666667, 10) == 0.0\n",
    "assert round(s1[\"max\"] - 42.0, 10) == 0.0"
   ]
  },
  {
   "cell_type": "markdown",
   "metadata": {},
   "source": [
    "## Exercise 07.3"
   ]
  },
  {
   "cell_type": "markdown",
   "metadata": {
    "deletable": false,
    "editable": false,
    "nbgrader": {
     "cell_type": "markdown",
     "checksum": "59fe9ff8629e2b641f8c654b3c0c36ee",
     "grade": false,
     "grade_id": "cell-27beb42d6b15acad",
     "locked": true,
     "schema_version": 3,
     "solution": false
    }
   },
   "source": [
    "For the two-dimensional array"
   ]
  },
  {
   "cell_type": "code",
   "execution_count": null,
   "metadata": {
    "deletable": false,
    "editable": false,
    "nbgrader": {
     "cell_type": "code",
     "checksum": "72617327e9686e23fc46fd8b050dfddc",
     "grade": false,
     "grade_id": "cell-73a8893e46856789",
     "locked": true,
     "schema_version": 3,
     "solution": false
    }
   },
   "outputs": [],
   "source": [
    "A = np.array([[4.0, 7.0, -2.43, 67.1],\n",
    "             [-4.0, 64.0, 54.7, -3.33],\n",
    "             [2.43, 23.2, 3.64, 4.11],\n",
    "             [1.2, 2.5, -113.2, 323.22]])\n",
    "print(A)"
   ]
  },
  {
   "cell_type": "markdown",
   "metadata": {},
   "source": [
    "use array slicing for the below operations, printing the results to the screen to check. Try to use array slicing such that your code would still work if the dimensions of ```A``` were enlarged."
   ]
  },
  {
   "cell_type": "markdown",
   "metadata": {
    "deletable": false,
    "editable": false,
    "nbgrader": {
     "cell_type": "markdown",
     "checksum": "6d041f0cf31860711599e3ee7b3491a3",
     "grade": false,
     "grade_id": "cell-f6744c8a86e68cac",
     "locked": true,
     "schema_version": 3,
     "solution": false
    }
   },
   "source": [
    "#### 1. Extract the third column as a 1D array"
   ]
  },
  {
   "cell_type": "code",
   "execution_count": null,
   "metadata": {
    "deletable": false,
    "nbgrader": {
     "cell_type": "code",
     "checksum": "b64ade07370f5fee0946cac30ec0e2ad",
     "grade": false,
     "grade_id": "cell-dfee6b0ed9343682",
     "locked": false,
     "schema_version": 3,
     "solution": true
    }
   },
   "outputs": [],
   "source": [
    "third_column = np.zeros(len(A))\n",
    "for i, row in enumerate(A):\n",
    "    third_column[i] = row[2]\n",
    "\n",
    "print(third_column)"
   ]
  },
  {
   "cell_type": "markdown",
   "metadata": {},
   "source": [
    "#### 2. Extract the first two rows as a 2D sub-array"
   ]
  },
  {
   "cell_type": "code",
   "execution_count": null,
   "metadata": {
    "deletable": false,
    "nbgrader": {
     "cell_type": "code",
     "checksum": "1501ee7c2e53e803ab2ee91f060600f6",
     "grade": true,
     "grade_id": "cell-7bf2f9a8c67029f8",
     "locked": false,
     "points": 0,
     "schema_version": 3,
     "solution": true
    }
   },
   "outputs": [],
   "source": [
    "top_two_rows = A[:2]\n",
    "\n",
    "print(top_two_rows)"
   ]
  },
  {
   "cell_type": "markdown",
   "metadata": {},
   "source": [
    "#### 3.  Extract the bottom-right $2 \\times 2$ block as a 2D sub-array"
   ]
  },
  {
   "cell_type": "code",
   "execution_count": null,
   "metadata": {
    "deletable": false,
    "nbgrader": {
     "cell_type": "code",
     "checksum": "f71dc316fa8df4bfd0d201a822e3649b",
     "grade": false,
     "grade_id": "cell-5206fea47d246222",
     "locked": false,
     "schema_version": 3,
     "solution": true
    }
   },
   "outputs": [],
   "source": [
    "bottom_2x2_block = np.array([np.zeros(2),\n",
    "                             np.zeros(2)])\n",
    "for i in range(0,2):\n",
    "    for j in range(0,2):\n",
    "        bottom_2x2_block[i][j] = A[i+2][j+2]\n",
    "\n",
    "print(bottom_2x2_block)"
   ]
  },
  {
   "cell_type": "markdown",
   "metadata": {},
   "source": [
    "#### 4. Sum the last column"
   ]
  },
  {
   "cell_type": "code",
   "execution_count": null,
   "metadata": {
    "deletable": false,
    "nbgrader": {
     "cell_type": "code",
     "checksum": "e838dfdea65683c219df150d9e896d98",
     "grade": false,
     "grade_id": "cell-34f74988e47b9f87",
     "locked": false,
     "schema_version": 3,
     "solution": true
    }
   },
   "outputs": [],
   "source": [
    "sum = 0\n",
    "for i, row in enumerate(A):\n",
    "    sum += row[3]\n",
    "\n",
    "print(sum)"
   ]
  },
  {
   "cell_type": "markdown",
   "metadata": {},
   "source": [
    "#### Compute transpose"
   ]
  },
  {
   "cell_type": "markdown",
   "metadata": {},
   "source": [
    "Compute the transpose of ```A``` (search online to find the function/syntax to do this)."
   ]
  },
  {
   "cell_type": "code",
   "execution_count": null,
   "metadata": {
    "deletable": false,
    "nbgrader": {
     "cell_type": "code",
     "checksum": "b9cbe5f84f05129cbc0152ce8c36f470",
     "grade": false,
     "grade_id": "cell-dd2999d2da8070f6",
     "locked": false,
     "schema_version": 3,
     "solution": true
    }
   },
   "outputs": [],
   "source": [
    "AT = A.transpose()\n",
    "\n",
    "print(AT)"
   ]
  },
  {
   "cell_type": "markdown",
   "metadata": {},
   "source": [
    "## Exercise 07.4"
   ]
  },
  {
   "cell_type": "markdown",
   "metadata": {
    "deletable": false,
    "editable": false,
    "nbgrader": {
     "cell_type": "markdown",
     "checksum": "a510432fad6ee25addb097edb316d131",
     "grade": false,
     "grade_id": "cell-f1255669c8aa78d2",
     "locked": true,
     "schema_version": 3,
     "solution": false
    }
   },
   "source": [
    "In a previous exercise you implemented the bisection algorithm to find approximate roots of a mathematical function. Use the SciPy bisection function ```optimize.bisect``` (https://docs.scipy.org/doc/scipy/reference/generated/scipy.optimize.bisect.html) to find roots of the mathematical function that was used in the previous exercise. Compare the results computed by SciPy and your program from the earlier exercise, and compare the computational time (using ```%time```)."
   ]
  },
  {
   "cell_type": "code",
   "execution_count": null,
   "metadata": {
    "deletable": false,
    "nbgrader": {
     "cell_type": "code",
     "checksum": "ed949860804630c700d7f9885647c14d",
     "grade": false,
     "grade_id": "cell-b6580accbcb3c2da",
     "locked": false,
     "schema_version": 3,
     "solution": true
    }
   },
   "outputs": [],
   "source": [
    "from scipy import optimize\n",
    "\n",
    "def fn(x):\n",
    "    y = x**3 - 6*x**2 + 4*x + 12\n",
    "    return y\n",
    "\n",
    "# Set parameters\n",
    "tol = 5.0e-13\n",
    "error = tol + 1.0\n",
    "max_iter = 100000\n",
    "\n",
    "# Initial end points\n",
    "x0 = 3.0\n",
    "x1 = 6.0"
   ]
  },
  {
   "cell_type": "code",
   "execution_count": null,
   "metadata": {},
   "outputs": [],
   "source": [
    "%%time\n",
    "\n",
    "x = optimize.bisect(fn, x0, x1, xtol=tol, maxiter=max_iter)\n",
    "\n",
    "print(x)"
   ]
  },
  {
   "cell_type": "code",
   "execution_count": null,
   "metadata": {},
   "outputs": [],
   "source": [
    "%%time\n",
    "\n",
    "# Iterate until tolerance is met\n",
    "counter = 0\n",
    "while error > tol:\n",
    "    counter += 1 # increment counter\n",
    "\n",
    "    # Compute midpoint\n",
    "    x_mid = (x0 + x1)/2\n",
    "\n",
    "    # Evaluate function at left end-point and at midpoint\n",
    "    f0 = fn(x0)\n",
    "    f = fn(x_mid)\n",
    "\n",
    "    error = abs(f)\n",
    "\n",
    "    if f0 * f < 0:\n",
    "        x0, x1 = x0, x_mid\n",
    "    else:\n",
    "        x0, x1 = x_mid, x1\n",
    "\n",
    "    # Guard against an infinite loop\n",
    "    if counter > max_iter:\n",
    "        print(\"Oops, iteration count is very large. Breaking out of while loop.\")\n",
    "        break\n",
    "\n",
    "    # print(counter, x_mid, error)\n",
    "\n",
    "print(x_mid)"
   ]
  }
 ],
 "metadata": {
  "kernelspec": {
   "display_name": "Python 3",
   "language": "python",
   "name": "python3"
  },
  "language_info": {
   "codemirror_mode": {
    "name": "ipython",
    "version": 3
   },
   "file_extension": ".py",
   "mimetype": "text/x-python",
   "name": "python",
   "nbconvert_exporter": "python",
   "pygments_lexer": "ipython3",
   "version": "3.7.7"
  }
 },
 "nbformat": 4,
 "nbformat_minor": 4
}
