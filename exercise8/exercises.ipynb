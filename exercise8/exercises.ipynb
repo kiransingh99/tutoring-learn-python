{
 "cells": [
  {
   "cell_type": "markdown",
   "metadata": {},
   "source": [
    "# 8. Exercises: Plotting"
   ]
  },
  {
   "cell_type": "markdown",
   "metadata": {
    "deletable": false,
    "editable": false,
    "nbgrader": {
     "cell_type": "markdown",
     "checksum": "75c425aff1f0a436daf36404c8ba2ab1",
     "grade": false,
     "grade_id": "cell-ea6c1e4c217d0584",
     "locked": true,
     "schema_version": 3,
     "solution": false
    }
   },
   "source": [
    "Import the NumPy and Matplotlib modules:"
   ]
  },
  {
   "cell_type": "code",
   "execution_count": null,
   "metadata": {
    "deletable": false,
    "editable": false,
    "nbgrader": {
     "cell_type": "code",
     "checksum": "59eda70eb0da3f712de94d757423e124",
     "grade": false,
     "grade_id": "cell-851f16f7d1f512b6",
     "locked": true,
     "schema_version": 3,
     "solution": false
    }
   },
   "outputs": [],
   "source": [
    "%matplotlib inline\n",
    "import numpy as np\n",
    "import matplotlib.pyplot as plt"
   ]
  },
  {
   "cell_type": "markdown",
   "metadata": {},
   "source": [
    "## Exercise 08.1"
   ]
  },
  {
   "cell_type": "markdown",
   "metadata": {
    "deletable": false,
    "editable": false,
    "nbgrader": {
     "cell_type": "markdown",
     "checksum": "8acb2d08e3646dfeb083bc19f1ad7e50",
     "grade": false,
     "grade_id": "cell-2ae2b1794b3463d5",
     "locked": true,
     "schema_version": 3,
     "solution": false
    }
   },
   "source": [
    "Consider the function\n",
    "\n",
    "$$ f(x) = e^{x/10} \\sin(\\omega_{1}x)\\cos(\\omega_{0}x) $$\n",
    "\n",
    "from $x = -4\\pi$ to $x = 4\\pi$.\n",
    "\n",
    "(1) Plot the function when $\\omega_{0} = \\omega_{1} = 1$. Label the axes."
   ]
  },
  {
   "cell_type": "code",
   "execution_count": null,
   "metadata": {
    "deletable": false,
    "nbgrader": {
     "cell_type": "code",
     "checksum": "dda339af9d9ff1200c6e690cc736346e",
     "grade": false,
     "grade_id": "cell-c220b6560241ee82",
     "locked": false,
     "schema_version": 3,
     "solution": true
    }
   },
   "outputs": [],
   "source": [
    "num_points = 100\n",
    "x = np.linspace(-4*np.pi, 4*np.pi, num=num_points)\n",
    "\n",
    "f = np.exp(x/10) * np.sin(x) * np.cos(x)\n",
    "\n",
    "plt.plot(x, f)\n",
    "plt.show()"
   ]
  },
  {
   "cell_type": "markdown",
   "metadata": {
    "deletable": false,
    "editable": false,
    "nbgrader": {
     "cell_type": "markdown",
     "checksum": "9d299345f06033e8be689ce7feebea37",
     "grade": false,
     "grade_id": "cell-e4170686d6779807",
     "locked": true,
     "schema_version": 3,
     "solution": false
    }
   },
   "source": [
    "(2) Create an interactive plot with sliders for $\\omega_{0}$ and $\\omega_{1}$, varying from 0 to 2."
   ]
  },
  {
   "cell_type": "code",
   "execution_count": null,
   "metadata": {
    "deletable": false,
    "nbgrader": {
     "cell_type": "code",
     "checksum": "88d66aece0257fe1f0965921fcfc3580",
     "grade": false,
     "grade_id": "cell-e6df2ed12d41ffa1",
     "locked": false,
     "schema_version": 3,
     "solution": true
    }
   },
   "outputs": [],
   "source": [
    "from ipywidgets import *\n",
    "\n",
    "@interact(ω_0 =(0, 2, 0.1), ω_1=(0, 2, 0.1))\n",
    "def plot(ω_0=1, ω_1=1):\n",
    "    x = np.linspace(-4*np.pi, 4*np.pi, num=num_points)\n",
    "    f = np.exp(x/10) * np.sin(ω_1*x) * np.cos(ω_0*x)\n",
    "    plt.plot(x, f)\n",
    "    plt.show()"
   ]
  },
  {
   "cell_type": "markdown",
   "metadata": {},
   "source": [
    "## Exercise 08.2"
   ]
  },
  {
   "cell_type": "markdown",
   "metadata": {
    "deletable": false,
    "editable": false,
    "nbgrader": {
     "cell_type": "markdown",
     "checksum": "94ca85f38721a3face01aecf8f91dedd",
     "grade": false,
     "grade_id": "cell-8fa19840a1969ff6",
     "locked": true,
     "schema_version": 3,
     "solution": false
    }
   },
   "source": [
    "Plot the function\n",
    "\n",
    "$$ f(x)  = \\frac{\\sin(x)}{x} $$\n",
    "\n",
    "from $x = -6\\pi$ to $x = 6\\pi$. Think carefully about which $x$ values you use when $x$ is close to zero.\n",
    "\n",
    "Add to the above plot the graph of $1/ \\left| x \\right|$, and limit the range of the $y$ axis to 1 using ```plt.ylim```.\n",
    "\n",
    "*Hint:* use ```np.abs(x)``` to return the absolute values of each component of a NumPy array ```x```."
   ]
  },
  {
   "cell_type": "code",
   "execution_count": null,
   "metadata": {
    "deletable": false,
    "nbgrader": {
     "cell_type": "code",
     "checksum": "e530357e82442e9fcb34698e9ddd5460",
     "grade": false,
     "grade_id": "cell-4a1bc264d6e1a525",
     "locked": false,
     "schema_version": 3,
     "solution": true
    }
   },
   "outputs": [],
   "source": [
    "x = np.linspace(-6*np.pi, 6*np.pi, 1000) # if there are an even number of x values, there won't be one on x=0\n",
    "\n",
    "f = np.sin(x)/x\n",
    "plt.plot(x, f)\n",
    "\n",
    "y = 1/np.abs(x)\n",
    "plt.plot(x,y)\n",
    "plt.ylim(top=2, bottom = -0.5)\n",
    "\n",
    "plt.show()"
   ]
  },
  {
   "cell_type": "markdown",
   "metadata": {},
   "source": [
    "## Exercise 08.3"
   ]
  },
  {
   "cell_type": "markdown",
   "metadata": {},
   "source": [
    "A county planning body has requested an interactive tool to visualise the population distribution in Cambridgeshire (by district) from 2011 to 2022 for different population growth rate scenarios in each district. It can be assumed that:\n",
    "\n",
    "- the growth rates are constant in each district\n",
    "- the growth rate will not be negative in any district\n",
    "- the annual growth rate in any one district will not exceed 10%\n",
    "\n",
    "Building on the pie chart example with population data in the Activity notebook, create an interactive pie chart plot with:\n",
    "\n",
    "1. A slider for the year (from 2011 to 2022)\n",
    "2. Sliders for the annual population growth for each district (in percentage), with an initial value of zero for each district."
   ]
  },
  {
   "cell_type": "code",
   "execution_count": null,
   "metadata": {
    "deletable": false,
    "nbgrader": {
     "cell_type": "code",
     "checksum": "c900ac52bff18cf62b81b3ff3522789e",
     "grade": false,
     "grade_id": "cell-0ddfc4c579d42ad3",
     "locked": false,
     "schema_version": 3,
     "solution": true
    }
   },
   "outputs": [],
   "source": [
    "# List of (district, population) data (in 2011)\n",
    "population_data = (('Cambridge City', 123900),\n",
    "                   ('East Cambridgeshire', 83800),\n",
    "                   ('Fenland', 95300),\n",
    "                   ('Huntingdonshire', 169500),\n",
    "                   ('South Cambridgeshire', 148800))\n",
    "\n",
    "@interact(year=(2011, 2022, 1),\n",
    "          city_growth=(-0.1, 0.1, 0.01),\n",
    "          east_growth=(-0.1, 0.1, 0.01),\n",
    "          fenland_growth=(-0.1, 0.1, 0.01),\n",
    "          huntingdonshire_growth=(-0.1, 0.1, 0.01),\n",
    "          south_growth=(-0.1, 0.1, 0.01))\n",
    "def plot(year=2011, city_growth=0, east_growth=0, fenland_growth=0, huntingdonshire_growth=0, south_growth=0):\n",
    "    growths = [city_growth, east_growth, fenland_growth, huntingdonshire_growth, south_growth]\n",
    "    districts = tuple([p[0] for p in population_data])\n",
    "    populations_2011 = [p[1] for p in population_data]\n",
    "\n",
    "    populations = populations_2011 * np.add(1, [rate for rate in growths])**(year-2011)\n",
    "\n",
    "    plt.pie(populations, labels=districts, autopct='%1.1f%%', shadow=True, startangle=90)\n",
    "    plt.title(\"{} population distribution in Cambridgeshire\".format(year))\n",
    "    plt.show()"
   ]
  },
  {
   "cell_type": "markdown",
   "metadata": {},
   "source": [
    "## Exercise 08.4"
   ]
  },
  {
   "cell_type": "markdown",
   "metadata": {},
   "source": [
    "### Background"
   ]
  },
  {
   "cell_type": "markdown",
   "metadata": {
    "deletable": false,
    "editable": false,
    "nbgrader": {
     "cell_type": "markdown",
     "checksum": "c024a8a5864e12debafec52174d7341a",
     "grade": false,
     "grade_id": "cell-19fdd0fd825e2005",
     "locked": true,
     "schema_version": 3,
     "solution": false
    }
   },
   "source": [
    "Your task is to produce a crime report data plot in the neighborhood of your college, by reported crime category.\n",
    "\n",
    "We can get crime data in the UK from the police data systems using what is known as a *REST API*, and turn the data into a list of Python dictionaries. Each entry in the list is a police report (an entry is a Python dictionary detailing the report).\n",
    "\n",
    "The first step is to import the modules we will be using:"
   ]
  },
  {
   "cell_type": "code",
   "execution_count": null,
   "metadata": {},
   "outputs": [],
   "source": [
    "!pip install requests\n",
    "\n",
    "import json\n",
    "import matplotlib.pyplot as plt\n",
    "import pprint\n",
    "import requests"
   ]
  },
  {
   "cell_type": "markdown",
   "metadata": {
    "deletable": false,
    "editable": false,
    "nbgrader": {
     "cell_type": "markdown",
     "checksum": "236f60bc32cc2e90a0fb16d1cc12db32",
     "grade": false,
     "grade_id": "cell-076189a984888933",
     "locked": true,
     "schema_version": 3,
     "solution": false
    }
   },
   "source": [
    "The service https://data.police.uk has an interface where we can add specific strings to the URL (web address) to define what data we are intersted in, and the police server will return our requested data. The format is\n",
    "\n",
    "    https://data.police.uk/api/crimes-street/all-crime?lat=52.629729&lng=-1.131592&date=2017-01\n",
    "\n",
    "This return crimes reports within a mile radius of the geographic coordinate point for the month `2017-01`.\n",
    "\n",
    "Below we create this URL string to include a part of the Cambridge city centre. You can modify this for your own college or other areas of interest (Google Maps is a handy way to get the geographic coordinates)."
   ]
  },
  {
   "cell_type": "code",
   "execution_count": null,
   "metadata": {
    "deletable": false,
    "editable": false,
    "nbgrader": {
     "cell_type": "code",
     "checksum": "90239485428af6079b3f83a770bd8ccb",
     "grade": false,
     "grade_id": "cell-b59145a288b844f9",
     "locked": true,
     "schema_version": 3,
     "solution": false
    }
   },
   "outputs": [],
   "source": [
    "# A point in the Cambridge city centre\n",
    "long, lat = 52.205277, 0.119117\n",
    "\n",
    "# year-month of interest\n",
    "year_month = '2019-05'\n",
    "\n",
    "# Construct request URL string\n",
    "url = \"https://data.police.uk/api/crimes-street/all-crime?lat={}&lng={}&date={}\".format(long, lat, year_month)\n",
    "\n",
    "# Fetch data from https://data.police.uk\n",
    "r = requests.get(url)\n",
    "\n",
    "crime_data = r.json() # convert the fetched data into a list of dictionaries\n",
    "\n",
    "# Use pretty print (pprint) to see how the data is arranged. Let's look at the first report in the list.\n",
    "\n",
    "if crime_data:\n",
    "    pprint.pprint(crime_data[0])\n",
    "\n",
    "# Each dictionary item corresponds to a reported crime."
   ]
  },
  {
   "cell_type": "markdown",
   "metadata": {},
   "source": [
    "Each dictionary item corresponds to a reported crime."
   ]
  },
  {
   "cell_type": "markdown",
   "metadata": {},
   "source": [
    "### Task"
   ]
  },
  {
   "cell_type": "markdown",
   "metadata": {},
   "source": [
    "Produce a bar chart of the number of reports in different categories. Run your program for different parts of Cambridge, starting with the area around your college, and for different months and years."
   ]
  },
  {
   "cell_type": "code",
   "execution_count": null,
   "metadata": {},
   "outputs": [],
   "source": [
    "# Create an empty dictionary which will map the report category to the number of incidents\n",
    "categories_freq = {}\n",
    "\n",
    "# Iterate over all reports and count the frequencies in the categories_freq dictionary\n",
    "for report in crime_data:\n",
    "    category = report['category']\n",
    "\n",
    "    if category in categories_freq:\n",
    "        categories_freq[category] += 1\n",
    "    else:\n",
    "        categories_freq[category] = 1\n",
    "\n",
    "# Plot the results\n",
    "plt.bar(list(categories_freq.keys()), list(categories_freq.values()))\n",
    "plt.xticks(rotation=\"vertical\")\n",
    "plt.show()"
   ]
  }
 ],
 "metadata": {
  "kernelspec": {
   "display_name": "Python 3",
   "language": "python",
   "name": "python3"
  },
  "language_info": {
   "codemirror_mode": {
    "name": "ipython",
    "version": 3
   },
   "file_extension": ".py",
   "mimetype": "text/x-python",
   "name": "python",
   "nbconvert_exporter": "python",
   "pygments_lexer": "ipython3",
   "version": "3.7.7"
  },
  "widgets": {
   "state": {
    "248f5fcae0454540b7cd3ac136ba81ad": {
     "views": [
      {
       "cell_index": 11
      }
     ]
    },
    "383c4f93cc414843afd9d350dad99c75": {
     "views": [
      {
       "cell_index": 5
      }
     ]
    }
   },
   "version": "1.2.0"
  }
 },
 "nbformat": 4,
 "nbformat_minor": 4
}
