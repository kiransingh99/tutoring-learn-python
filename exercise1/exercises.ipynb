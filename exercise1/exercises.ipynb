{
 "cells": [
  {
   "cell_type": "markdown",
   "metadata": {},
   "source": [
    "# 1. Exercises: Variables, assignment and operator precedence"
   ]
  },
  {
   "cell_type": "markdown",
   "metadata": {},
   "source": [
    "## Exercise 01.1"
   ]
  },
  {
   "cell_type": "markdown",
   "metadata": {},
   "source": [
    "Degrees Fahrenheit ($T_f$) are converted to degrees Celsius ($T_c$) using the formula:\n",
    "\n",
    "$$T_c = \\frac{5(T_f-32)}{9}$$\n",
    "\n",
    "Write a program to convert 78 degrees Fahrenheit to degrees Celsius and print the result. Write your program such that you can easily change the temperature in Fahrenheit that you are converting from.\n",
    "\n",
    "Use the variable name ```T_c``` for the temperature in degrees Celsius."
   ]
  },
  {
   "cell_type": "code",
   "execution_count": null,
   "metadata": {},
   "outputs": [],
   "source": [
    "T_f = 78\n",
    "\n",
    "T_c = 5 * (T_f - 32) / 9"
   ]
  },
  {
   "cell_type": "code",
   "execution_count": null,
   "metadata": {},
   "outputs": [],
   "source": [
    "assert round(T_c - 25.55555555555555, 10) == 0.0"
   ]
  },
  {
   "cell_type": "markdown",
   "metadata": {},
   "source": [
    "## Exercise 01.2"
   ]
  },
  {
   "cell_type": "markdown",
   "metadata": {},
   "source": [
    "You have been tasked with developing a mortgage affordability test tool. A component is to compute the monthly interest payments for a range of scenarios.\n",
    "\n",
    "Interest on a particular mortgage is charged at fixed rate above the Bank of England (BoE) 'official Bank Rate'. Interest is computed per annum, and interest payments spread equally over each month of the year. Write a program that computes the interest payable each month, with variables for:\n",
    "\n",
    "1. Loan principal (amount borrowed)\n",
    "2. Official Bank Rate (percentage, expressed per annum)\n",
    "3. Rate over the official Bank Rate (percentage, expressed per annum)\n",
    "\n",
    "Test your program with a loan principal of £150,000, BoE rate of 0.5%, and rate over the BoE rate of 1.49%. Use the variable name ```interest``` for the monthly interest amount."
   ]
  },
  {
   "cell_type": "code",
   "execution_count": null,
   "metadata": {},
   "outputs": [],
   "source": [
    "# Assign data to variables\n",
    "principal = 150000\n",
    "BoE_rate = 0.5 * 0.01\n",
    "rate_over_BoE = 1.49 * 0.01\n",
    "\n",
    "total_interest_rate = BoE_rate + rate_over_BoE\n",
    "interest_year = principal * total_interest_rate\n",
    "interest = interest_year / 12\n",
    "print(interest)\n"
   ]
  },
  {
   "cell_type": "code",
   "execution_count": null,
   "metadata": {},
   "outputs": [],
   "source": [
    "assert round(interest - 248.75, 10) == 0.0"
   ]
  }
 ],
 "metadata": {
  "interpreter": {
   "hash": "01f139f06680331c19aeaba26688dba45234c5fc4176058c2178ac70640604d9"
  },
  "kernelspec": {
   "display_name": "Python 3.7.7 64-bit ('base': conda)",
   "language": "python",
   "name": "python3"
  },
  "language_info": {
   "codemirror_mode": {
    "name": "ipython",
    "version": 3
   },
   "file_extension": ".py",
   "mimetype": "text/x-python",
   "name": "python",
   "nbconvert_exporter": "python",
   "pygments_lexer": "ipython3",
   "version": "3.7.7"
  },
  "orig_nbformat": 4
 },
 "nbformat": 4,
 "nbformat_minor": 2
}
