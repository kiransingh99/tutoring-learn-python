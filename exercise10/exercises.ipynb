{
 "cells": [
  {
   "cell_type": "markdown",
   "metadata": {},
   "source": [
    "# 10. Exercises: Algorithms"
   ]
  },
  {
   "cell_type": "markdown",
   "metadata": {},
   "source": [
    "## Exercise 10.1"
   ]
  },
  {
   "cell_type": "markdown",
   "metadata": {},
   "source": [
    "We want to find the largest and smallest values in a long list of numbers. Implement two algorithms, based on:\n",
    "\n",
    "1. Iterating over the list entries; and\n",
    "2. First applying a built-in sort operation to the list.\n",
    "\n",
    "Encapsulate each algorithm in a function. To create lists of numbers for testing use, for example:\n",
    "\n",
    "```python\n",
    "x = np.random.rand(1000)\n",
    "```"
   ]
  },
  {
   "cell_type": "markdown",
   "metadata": {},
   "source": [
    "### Solution"
   ]
  },
  {
   "cell_type": "markdown",
   "metadata": {},
   "source": [
    "We first create the list of random numbers"
   ]
  },
  {
   "cell_type": "code",
   "execution_count": null,
   "metadata": {},
   "outputs": [],
   "source": [
    "import numpy as np\n",
    "x = np.random.rand(1000)"
   ]
  },
  {
   "cell_type": "markdown",
   "metadata": {},
   "source": [
    "#### Approach 1"
   ]
  },
  {
   "cell_type": "code",
   "execution_count": null,
   "metadata": {
    "deletable": false,
    "nbgrader": {
     "cell_type": "code",
     "checksum": "43178ff8d1756660a5dcafc73a085a11",
     "grade": false,
     "grade_id": "cell-78de0384c89f8cd3",
     "locked": false,
     "schema_version": 3,
     "solution": true
    }
   },
   "outputs": [],
   "source": [
    "def min_max1(x):\n",
    "    \"\"\"Determines the minimum and maximum values in a list.\"\"\"\n",
    "    x_min, x_max = np.inf, -np.inf\n",
    "    for val in x:\n",
    "        if val < x_min:\n",
    "            x_min = val\n",
    "        elif val > x_max:\n",
    "            x_max = val\n",
    "    return  x_min, x_max\n",
    "\n",
    "print(min_max1(x))"
   ]
  },
  {
   "cell_type": "markdown",
   "metadata": {},
   "source": [
    "#### Approach 2"
   ]
  },
  {
   "cell_type": "code",
   "execution_count": null,
   "metadata": {
    "deletable": false,
    "nbgrader": {
     "cell_type": "code",
     "checksum": "7e7695c3d6d4b78df21b7726c26d0d14",
     "grade": false,
     "grade_id": "cell-dfd666bf7428bcdc",
     "locked": false,
     "schema_version": 3,
     "solution": true
    }
   },
   "outputs": [],
   "source": [
    "def min_max2(x):\n",
    "    \"\"\"Determines the minimum and maximum values in a list.\"\"\"\n",
    "    x.sort()\n",
    "    return x[0], x[-1]\n",
    "\n",
    "print(min_max2(x))"
   ]
  },
  {
   "cell_type": "code",
   "execution_count": null,
   "metadata": {
    "deletable": false,
    "editable": false,
    "nbgrader": {
     "cell_type": "code",
     "checksum": "1fb0c38ddcfcd2759b42e913ab624f34",
     "grade": true,
     "grade_id": "cell-1fa6054c191acd87",
     "locked": true,
     "points": 0,
     "schema_version": 3,
     "solution": false
    }
   },
   "outputs": [],
   "source": [
    "assert min_max1(x) == min_max2(x)"
   ]
  },
  {
   "cell_type": "markdown",
   "metadata": {},
   "source": [
    "In practice, we would use the the NumPy function:"
   ]
  },
  {
   "cell_type": "code",
   "execution_count": null,
   "metadata": {},
   "outputs": [],
   "source": [
    "print(np.min(x), np.max(x))"
   ]
  },
  {
   "cell_type": "markdown",
   "metadata": {},
   "source": [
    "## Exercise 10.2"
   ]
  },
  {
   "cell_type": "markdown",
   "metadata": {},
   "source": [
    "### Background"
   ]
  },
  {
   "cell_type": "markdown",
   "metadata": {},
   "source": [
    "Newton's method can be used to find a root $x$ of a function $f(x)$ such that\n",
    "\n",
    "$$\n",
    "f(x) = 0\n",
    "$$\n",
    "\n",
    "A Taylor series expansion of $f$ about $x_{i}$ reads:\n",
    "\n",
    "$$\n",
    "f(x_{i+1}) = f(x_{i}) + \\left. f^{\\prime} \\right|_{x_{i}} (x_{i+1} - x_{i}) +  O((x_{i+1} - x_{i})^{2})\n",
    "$$\n",
    "\n",
    "If we neglect the higher-order terms and set $f(x_{i+1})$ to zero, we have Newton's method:\n",
    "\n",
    "\\begin{align}\n",
    "x_{i + 1} &= - \\frac{f(x_{i})}{f^{\\prime}(x_{i})} + x_{i}\\\\\n",
    "x_{i} &\\leftarrow x_{i+1}\n",
    "\\end{align}\n",
    "\n",
    "In Newton's method, the above is applied iteratively until $\\left|f(x_{i + 1})\\right|$ is below a tolerance value."
   ]
  },
  {
   "cell_type": "markdown",
   "metadata": {},
   "source": [
    "### Task"
   ]
  },
  {
   "cell_type": "markdown",
   "metadata": {},
   "source": [
    "Develop an implementation of Newton's method, with the following three functions in your implementation:\n",
    "\n",
    "```python\n",
    "def newton(f, df, x0, tol, max_it):\n",
    "    # Implement here\n",
    "\n",
    "    return x1  # return root\n",
    "```\n",
    "where `x0` is the initial guess, `tol` is the stopping tolerance, `max_it` is the maximum number of iterations, and\n",
    "\n",
    "```python\n",
    "def f(x):\n",
    "    # Evaluate function at x and return value\n",
    "\n",
    "\n",
    "def df(x):\n",
    "    # Evaluate df/dx at x and return value\n",
    "```\n",
    "\n",
    "Your implementation should raise an exception if the maximum number of iterations (`max_it`) is exceeded.\n",
    "\n",
    "Use your program to find the roots of:\n",
    "\n",
    "$$\n",
    "f(x) = \\tan(x) - 2x\n",
    "$$\n",
    "\n",
    "between $-\\pi/2$ and $\\pi/2$. Plot $f(x)$ and $f^{\\prime}(x)$ on the same graph, and show the roots computed by Newton's method.\n",
    "\n",
    "Newton's method can be sensitive to the starting value. Make sure you find the root around $x = 1.2$. What happens if you start at $x = 0.9$? It may help to add a print statement in the iteration loop, showing $x$ and $f$ at each iteration."
   ]
  },
  {
   "cell_type": "markdown",
   "metadata": {},
   "source": [
    "### Solution"
   ]
  },
  {
   "cell_type": "code",
   "execution_count": null,
   "metadata": {
    "deletable": false,
    "nbgrader": {
     "cell_type": "code",
     "checksum": "290b4b5892bdeabd6ab6a0a33ecf8fc8",
     "grade": false,
     "grade_id": "cell-d67ac5bf99448637",
     "locked": false,
     "schema_version": 3,
     "solution": true
    }
   },
   "outputs": [],
   "source": [
    "import numpy as np\n",
    "\n",
    "def newton(f, df, x, tol=1e-8, max_it=20):\n",
    "    \"\"\"Find root of equation defined by function f(x) where df(x) is\n",
    "    first derivative and x is the initial guess.Optional arguments tol\n",
    "    (tolerance) and max_it (maximum number of iterations)\"\"\"\n",
    "\n",
    "    for _ in range(max_it):\n",
    "        x_ip1 = -f(x) / df(x) + x\n",
    "        x = x_ip1\n",
    "\n",
    "        if abs(f(x)) < tol:\n",
    "            break\n",
    "\n",
    "    return x\n",
    "\n",
    "def f(x):\n",
    "    return np.tan(x) - 2*x\n",
    "\n",
    "def df(x):\n",
    "    return 1/np.cos(x) ** 2 - 2\n",
    "\n",
    "print(newton(f, df, 1.2))\n",
    "\n",
    "# Visualise the result\n",
    "\n",
    "%matplotlib inline\n",
    "import matplotlib.pyplot as plt\n",
    "\n",
    "# Plot f and df/dx\n",
    "x = np.linspace(-1.5, 1.5, 100)\n",
    "plt.plot(x, f(x), label='$f(x)$')\n",
    "plt.plot(x, df(x), label=\"$f^{\\prime}(x)$\")\n",
    "\n",
    "# x axis\n",
    "plt.plot(x, np.zeros(100), color=\"black\")\n",
    "\n",
    "# Add location of roots to plot\n",
    "plt.plot(newton(f, df, 1.2), f(newton(f, df, 1.2)), marker=\"x\", markersize=10)\n",
    "\n",
    "plt.show()"
   ]
  },
  {
   "cell_type": "markdown",
   "metadata": {},
   "source": [
    "### Extension (optional)"
   ]
  },
  {
   "cell_type": "markdown",
   "metadata": {},
   "source": [
    "For a complicated function we might not know how to compute the derivative, or it may be very complicated to evaluate. Write a function that computes the *numerical derivative* of $f(x)$ by evaluating $(f(x + dx) - f(x - dx)) / (2dx)$, where $dx$ is small. How should you choose $dx$?"
   ]
  },
  {
   "cell_type": "markdown",
   "metadata": {},
   "source": [
    "For the extension, we can replace the function `df(x)` with a new version"
   ]
  },
  {
   "cell_type": "code",
   "execution_count": null,
   "metadata": {
    "deletable": false,
    "nbgrader": {
     "cell_type": "code",
     "checksum": "70a98780d957280ddaf074ca6a09f072",
     "grade": false,
     "grade_id": "cell-3d320bc0309566f1",
     "locked": false,
     "schema_version": 3,
     "solution": true
    }
   },
   "outputs": [],
   "source": [
    "def df(x, f=f, dx=1e-9):\n",
    "    \"\"\"Computes numerical gradient of a function around x.\"\"\"\n",
    "    # Try changing dx to 1e-15 or smaller\n",
    "    return (f(x+dx) - f(x-dx)) / (2 * dx)"
   ]
  },
  {
   "cell_type": "code",
   "execution_count": null,
   "metadata": {
    "deletable": false,
    "editable": false,
    "nbgrader": {
     "cell_type": "code",
     "checksum": "7f6d1a0aa1ff4f83b22e337760138a88",
     "grade": true,
     "grade_id": "cell-3d320bc0309566f1wew",
     "locked": true,
     "points": 0,
     "schema_version": 3,
     "solution": false
    }
   },
   "outputs": [],
   "source": [
    "# Find roots near -1.2, 0.1, and 1.2\n",
    "xroots = np.array((newton(f, df, -1.2),\n",
    "                   newton(f, df, 0.1),\n",
    "                   newton(f, df, 1.2)))\n",
    "assert np.isclose(xroots, [-1.16556119e+00, 2.08575213e-10, 1.16556119e+00]).all()"
   ]
  },
  {
   "cell_type": "code",
   "execution_count": null,
   "metadata": {
    "deletable": false,
    "nbgrader": {
     "cell_type": "code",
     "checksum": "7d165c7a27493d0f47424dc7ded291c7",
     "grade": false,
     "grade_id": "cell-f6c6dafb16f9b2a8",
     "locked": false,
     "schema_version": 3,
     "solution": true
    }
   },
   "outputs": [],
   "source": [
    "# Plot f, f' and roots\n",
    "\n",
    "%matplotlib inline\n",
    "import matplotlib.pyplot as plt\n",
    "\n",
    "x = np.linspace(-1.5, 1.5, 100)\n",
    "plt.plot(x, f(x), label='$f(x)$')\n",
    "plt.plot(x, df(x), label=\"$f^{\\prime}(x)$\")\n",
    "\n",
    "# x axis\n",
    "plt.plot(x, np.zeros(100), color=\"black\")\n",
    "\n",
    "# Add location of roots to plot\n",
    "plt.plot(newton(f, df, 1.2), f(newton(f, df, 1.2)), marker=\"x\", markersize=10)\n",
    "\n",
    "plt.show()"
   ]
  },
  {
   "cell_type": "markdown",
   "metadata": {},
   "source": [
    "In practice, we could use the Newton function `scipy.optimize.newton` from SciPy (https://docs.scipy.org/doc/scipy/reference/generated/scipy.optimize.newton.html) rather than implementing our own function."
   ]
  },
  {
   "cell_type": "markdown",
   "metadata": {},
   "source": [
    "## Exercise 10.3 (optional)"
   ]
  },
  {
   "cell_type": "markdown",
   "metadata": {},
   "source": [
    "Images files can be loaded and displayed with Matplotlib. An imported image is stored as a three-dimensional NumPy array of floats. The shape of the array is `[0:nx, 0:ny, 0:3]`, where `nx` is the number of pixels in the $x$-direction, `ny` is the number of pixels in the $y$-direction, and the third axis is for the colour component (RGB: red, green and blue) intensity. See https://matplotlib.org/users/image_tutorial.html for more background.\n",
    "\n",
    "Below we fetch an image and display it:"
   ]
  },
  {
   "cell_type": "code",
   "execution_count": null,
   "metadata": {},
   "outputs": [],
   "source": [
    "%matplotlib inline\n",
    "import matplotlib.pyplot as plt\n",
    "import matplotlib.image as mpimg\n",
    "\n",
    "# Import image\n",
    "img = mpimg.imread('https://upload.wikimedia.org/wikipedia/en/7/7d/Lenna_%28test_image%29.png')\n",
    "\n",
    "# Check type and shape\n",
    "print(type(img))\n",
    "print(\"Image array shape: {}\".format(img.shape))\n",
    "\n",
    "# Display image\n",
    "plt.imshow(img)"
   ]
  },
  {
   "cell_type": "markdown",
   "metadata": {},
   "source": [
    "The task is to write a *function* that applies a particular low-pass filter algorithm to an image array and  returns the  filtered image. With this particular filter, the value of a pixel in the filtered image is equal to the average value of the four neighbouring pixels in the original image. For the `[i, j, :]` pixel, the neighbours are  `[i, j+1, :]`, `[i, j-1, :]`, `[i+1, j, :]` and  `[i-1, j, :]`.\n",
    "\n",
    "Run the filter algorithm multiple times on the above image to explore the effect of the filter.\n",
    "\n",
    "*Hint*: To create a NumPy array of zeros, `B`,  with the same shape as array `A`, use:\n",
    "\n",
    "```python\n",
    "import numpy as np\n",
    "B = np.zeros_like(A)\n",
    "```"
   ]
  },
  {
   "cell_type": "code",
   "execution_count": null,
   "metadata": {
    "deletable": false,
    "nbgrader": {
     "cell_type": "code",
     "checksum": "824f26622746162aad76ca3791f94305",
     "grade": false,
     "grade_id": "cell-8bc3a81c6142b437",
     "locked": false,
     "schema_version": 3,
     "solution": true
    }
   },
   "outputs": [],
   "source": [
    "import numpy as np\n",
    "\n",
    "def smooth(old_img):\n",
    "    \"\"\"Smooth an image by averaging the pixel values.\"\"\"\n",
    "\n",
    "    new_img = np.zeros_like(old_img)\n",
    "\n",
    "    for x in range (old_img.shape[0]-1):\n",
    "        for y in range (old_img.shape[1]-1):\n",
    "            new_img[x, y] = (old_img[x, y+1] + old_img[x, y-1] + old_img[x+1, y] + old_img[x-1, y]) / 4\n",
    "\n",
    "    return new_img\n",
    "\n",
    "\n",
    "A = img\n",
    "plt.imshow(A)\n",
    "plt.show()\n",
    "\n",
    "for _ in range(100):\n",
    "    B = smooth(A)\n",
    "    A = B\n",
    "\n",
    "plt.imshow(A)\n",
    "plt.show()"
   ]
  }
 ],
 "metadata": {
  "kernelspec": {
   "display_name": "Python 3",
   "language": "python",
   "name": "python3"
  },
  "language_info": {
   "codemirror_mode": {
    "name": "ipython",
    "version": 3
   },
   "file_extension": ".py",
   "mimetype": "text/x-python",
   "name": "python",
   "nbconvert_exporter": "python",
   "pygments_lexer": "ipython3",
   "version": "3.7.7"
  }
 },
 "nbformat": 4,
 "nbformat_minor": 4
}
