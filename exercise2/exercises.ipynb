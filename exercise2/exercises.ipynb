{
 "cells": [
  {
   "cell_type": "markdown",
   "metadata": {},
   "source": [
    "# 2. Exercises: Control statements"
   ]
  },
  {
   "cell_type": "markdown",
   "metadata": {},
   "source": [
    "## Exercise 02.1"
   ]
  },
  {
   "cell_type": "markdown",
   "metadata": {},
   "source": [
    "Consider the following assessment criteria which map a score out of 100 to an assessment grade:\n",
    "\n",
    "| Grade             | Raw score  (/100)      |\n",
    "| ----------------- | ---------------------- |\n",
    "| Excellent         | $\\ge 82$               |\n",
    "| Very good         | $\\ge 76.5$ and $< 82$  |\n",
    "| Good              | $\\ge 66$ and $< 76.5$  |\n",
    "| Needs improvement | $\\ge 45$ and $< 66$    |\n",
    "| Did you try?      | $< 45$                 |\n",
    "\n",
    "Write a program that, given an a score, prints the appropriate grade. Print an error message if the input score is greater than 100 or less than zero."
   ]
  },
  {
   "cell_type": "code",
   "execution_count": null,
   "metadata": {},
   "outputs": [],
   "source": [
    "score = 50\n",
    "\n",
    "# YOUR CODE HERE\n",
    "raise NotImplementedError()"
   ]
  },
  {
   "cell_type": "markdown",
   "metadata": {},
   "source": [
    "## Exercise 02.2"
   ]
  },
  {
   "cell_type": "markdown",
   "metadata": {},
   "source": [
    "Bisection is an iterative method for finding approximate roots of a function. Say we know that the function $f(x)$ has one root between $x_{0}$ and $x_{1}$ ($x_{0} < x_{1}$). We then:\n",
    "\n",
    "* Evaluate $f$ at the midpoint $x_{\\rm mid} = (x_0 + x_1)/2$, i.e. compute $f_{\\rm mid} = f(x_{\\rm mid})$.\n",
    "* Evaluate $f(x_0) \\cdot f(x_{\\rm mid})$.\n",
    "    * If $f(x_0) \\cdot f(x_{\\rm mid}) < 0$, $f$ must change sign somewhere between $x_0$ and $x_{\\rm mid}$, hence the root must lie between $x_0$ and $x_{\\rm mid}$, so set $x_1 = x_{\\rm mid}$.\n",
    "    * Else $f$ must change sign somewhere between $x_{\\rm mid}$ and $x_1$, so set $x_0 = x_{\\rm mid}$.\n",
    "\n",
    "The above steps can be repeated a specified number of times, or until $|f_{\\rm mid}|$ is below a tolerance, with $x_{\\rm mid}$ being the approximate root.\n",
    "\n",
    "The function $$f(x) = x^3 - 6x^2 + 4x + 12$$ has one root somewhere between $x_0 = 3$ and $x_1 = 6$.\n",
    "\n",
    "1. Use the bisection method to find an approximate root $x_{r}$ using 15 iterations (use a ```for``` loop).\n",
    "2. Use the bisection method to find an approximate root $x_{r}$ such that $\\left| f(x_{r}) \\right| < 1 \\times 10^{-6}$ and report the number of iterations required (use a ```while``` loop).\n",
    "Store the approximate root using the variable ```x_mid```, and store $f(x_{\\rm mid})$ using the variable ```f```.\n",
    "\n",
    "*Hint*: Use ```abs``` to compute the absolute value of a number, e.g. ```y = abs(x)``` assigns the absolute value of ```x``` to ```y```."
   ]
  },
  {
   "cell_type": "markdown",
   "metadata": {},
   "source": [
    "### (1) Using a ```for``` loop"
   ]
  },
  {
   "cell_type": "code",
   "execution_count": null,
   "metadata": {},
   "outputs": [],
   "source": [
    "# Initial end points\n",
    "x0 = 3.0\n",
    "x1 = 6.0\n",
    "\n",
    "# Tolerance\n",
    "tol = 1e-6\n",
    "\n",
    "# Use 15 iterations\n",
    "for n in range(15):\n",
    "    # Compute midpoint\n",
    "    x_mid = (x0 + x1)/2\n",
    "\n",
    "    # Evaluate function at left end-point and at midpoint\n",
    "    f0 = x0**3 - 6*x0**2 + 4*x0 + 12\n",
    "    f = x_mid**3 - 6*x_mid**2 + 4*x_mid + 12\n",
    "\n",
    "    if abs(f) < tol:\n",
    "        break\n",
    "\n",
    "    if f0 * f < 0:\n",
    "        x0, x1 = x0, x_mid\n",
    "    else:\n",
    "        x0, x1 = x_mid, x1\n",
    "\n",
    "    print(n, x_mid, f)"
   ]
  },
  {
   "cell_type": "code",
   "execution_count": null,
   "metadata": {},
   "outputs": [],
   "source": [
    "assert round(x_mid - 4.534149169921875, 10) == 0.0\n",
    "assert abs(f) < 0.0009"
   ]
  },
  {
   "cell_type": "markdown",
   "metadata": {},
   "source": [
    "### (2) Using a ```while``` loop"
   ]
  },
  {
   "cell_type": "markdown",
   "metadata": {},
   "source": [
    "Use the variable ```counter``` for the iteration number.\n",
    "\n",
    "*Remember to guard against infinite loops.*"
   ]
  },
  {
   "cell_type": "code",
   "execution_count": null,
   "metadata": {},
   "outputs": [],
   "source": [
    "# Initial end points\n",
    "x0 = 3.0\n",
    "x1 = 6.0\n",
    "\n",
    "tol = 1.0e-6\n",
    "error = tol + 1.0\n",
    "\n",
    "# Iterate until tolerance is met\n",
    "counter = 0\n",
    "while error > tol:\n",
    "    counter += 1 # increment counter\n",
    "\n",
    "    # Compute midpoint\n",
    "    x_mid = (x0 + x1)/2\n",
    "\n",
    "    # Evaluate function at left end-point and at midpoint\n",
    "    f0 = x0**3 - 6*x0**2 + 4*x0 + 12\n",
    "    f = x_mid**3 - 6*x_mid**2 + 4*x_mid + 12\n",
    "\n",
    "    error = abs(f)\n",
    "\n",
    "    if f0 * f < 0:\n",
    "        x0, x1 = x0, x_mid\n",
    "    else:\n",
    "        x0, x1 = x_mid, x1\n",
    "\n",
    "    # Guard against an infinite loop\n",
    "    if counter > 1000:\n",
    "        print(\"Oops, iteration count is very large. Breaking out of while loop.\")\n",
    "        break\n",
    "\n",
    "    print(counter, x_mid, error)"
   ]
  },
  {
   "cell_type": "code",
   "execution_count": null,
   "metadata": {},
   "outputs": [],
   "source": [
    "assert counter == 23\n",
    "assert abs(f) < 1.0e-6"
   ]
  },
  {
   "cell_type": "markdown",
   "metadata": {},
   "source": [
    "## Exercise 02.3"
   ]
  },
  {
   "cell_type": "markdown",
   "metadata": {},
   "source": [
    "The power series expansion for the sine function is:\n",
    "\n",
    "$$\\sin(x) = \\sum_{n = 0}^{\\infty} (-1)^n \\frac{x^{2n +1}}{(2n+1)!}$$\n",
    "\n",
    "Using a ```for``` statement, approximate $\\sin(3\\pi/2)$ using 15 terms in the series expansion and report the absolute error.\n",
    "\n",
    "Using a ```while``` statement, compute how many terms in the series are required to approximate $\\sin(3\\pi/2)$ to within $1 \\times 10^{-8}$.\n",
    "\n",
    "Store the absolute value of the error in the variable ```error```.\n",
    "\n",
    "*Note*: Calculators and computers use iterative or series expansions to compute trigonometric functions, similar to the one above (although they use more efficient formulations than the above series)."
   ]
  },
  {
   "cell_type": "markdown",
   "metadata": {},
   "source": [
    "### Hints"
   ]
  },
  {
   "cell_type": "markdown",
   "metadata": {},
   "source": [
    "To compute the factorial and to get a good approximation of $\\pi$, use the Python math module:\n",
    "\n",
    "```python\n",
    "import math\n",
    "\n",
    "nfact = math.factorial(10)\n",
    "pi = math.pi\n",
    "```\n",
    "\n",
    "You only need ```import math``` once at the top of your program. Standard modules, like ```math```, will be explained in a later section. If you want to test for angles for which sine is not simple, you can use\n",
    "\n",
    "```python\n",
    "a = 1.3\n",
    "s = math.sin(a)\n",
    "```\n",
    "\n",
    "to get an accurate computation of sine to check the error."
   ]
  },
  {
   "cell_type": "markdown",
   "metadata": {},
   "source": [
    "### (1) Using a ```for``` loop"
   ]
  },
  {
   "cell_type": "code",
   "execution_count": null,
   "metadata": {},
   "outputs": [],
   "source": [
    "# Import the math module to access math.sin and math.factorial\n",
    "import math\n",
    "\n",
    "# Value at which to approximate sine\n",
    "x = 1.5*math.pi\n",
    "\n",
    "# Initialise approximation of sine\n",
    "approx_sin = 0.0\n",
    "\n",
    "# True value\n",
    "answer = math.sin(x)\n",
    "\n",
    "for i in range(0, 15):\n",
    "    approx_sin += ((-1) ** i) * (x ** (2*i+1)) / math.factorial(2*i+1)\n",
    "\n",
    "error = abs(approx_sin - answer)\n",
    "\n",
    "print(\"The error is:\")\n",
    "print(error)"
   ]
  },
  {
   "cell_type": "code",
   "execution_count": null,
   "metadata": {},
   "outputs": [],
   "source": [
    "assert error < 1.0e-12"
   ]
  },
  {
   "cell_type": "markdown",
   "metadata": {},
   "source": [
    "### (2) Using a ```while``` loop"
   ]
  },
  {
   "cell_type": "markdown",
   "metadata": {},
   "source": [
    "*Remember to guard against infinite loops.*"
   ]
  },
  {
   "cell_type": "code",
   "execution_count": null,
   "metadata": {},
   "outputs": [],
   "source": [
    "# Import the math module to access math.sin and math.factorial\n",
    "import math\n",
    "\n",
    "# Value at which to approximate sine\n",
    "x = 1.5*math.pi\n",
    "\n",
    "# True value\n",
    "answer = math.sin(x)\n",
    "\n",
    "# Tolerance and initial error (this just needs to be larger than tol)\n",
    "tol = 1.0e-8\n",
    "error = tol + 1.0\n",
    "\n",
    "# Intialise approximation of sine\n",
    "approx_sin = 0.0\n",
    "\n",
    "# Initialise counter\n",
    "n = 0\n",
    "\n",
    "# Loop until error satisfies tolerance, with a check to avoid\n",
    "# an infinite loop\n",
    "while error > tol and n < 1000:\n",
    "\n",
    "    approx_sin += ((-1) ** n) * (x ** (2*n+1)) / math.factorial(2*n+1)\n",
    "    error = abs(approx_sin - answer)\n",
    "\n",
    "    # Increment counter\n",
    "    n += 1\n",
    "\n",
    "print(\"The error is:\")\n",
    "print(error)\n",
    "\n",
    "print(\"Number of terms in series:\")\n",
    "print(n)"
   ]
  },
  {
   "cell_type": "code",
   "execution_count": null,
   "metadata": {},
   "outputs": [],
   "source": [
    "assert n == 12\n",
    "assert error <= 1.0e-8"
   ]
  }
 ],
 "metadata": {
  "kernelspec": {
   "display_name": "Python 3.7.7 ('base')",
   "language": "python",
   "name": "python3"
  },
  "language_info": {
   "codemirror_mode": {
    "name": "ipython",
    "version": 3
   },
   "file_extension": ".py",
   "mimetype": "text/x-python",
   "name": "python",
   "nbconvert_exporter": "python",
   "pygments_lexer": "ipython3",
   "version": "3.7.7"
  },
  "orig_nbformat": 4,
  "vscode": {
   "interpreter": {
    "hash": "d56d7ac4ee4883c35c50b079d388610bdf13d54aa1c1112da169cfd5d54eb276"
   }
  }
 },
 "nbformat": 4,
 "nbformat_minor": 2
}
