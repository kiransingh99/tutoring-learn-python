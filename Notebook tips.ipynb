{
 "cells": [
  {
   "cell_type": "markdown",
   "metadata": {},
   "source": [
    "# Notebook tips"
   ]
  },
  {
   "cell_type": "markdown",
   "metadata": {},
   "source": [
    "## IPython magic commands"
   ]
  },
  {
   "cell_type": "markdown",
   "metadata": {},
   "source": [
    "When using Python with Jupyter, we are actually using the *IPython kernel* to run code. [IPython](https://ipython.org/) has what are known as *magic commands* that help us interact with Jupyter. Magic commands are prefixed by '`%`'. Magic commands are *not* part of the Python language; they are specific to IPython. In a plain Python program, magic commands would not be recognised and would lead to an error.\n",
    "\n",
    "We summarise below the magic functions that are used in the Activity notebooks. The full documentation for IPython magic commands is available [here](https://ipython.readthedocs.io/en/stable/interactive/magics.html)."
   ]
  },
  {
   "cell_type": "markdown",
   "metadata": {},
   "source": [
    "### Matplotlib"
   ]
  },
  {
   "cell_type": "markdown",
   "metadata": {},
   "source": [
    "To display plots inline in a notebook, we use the magic command:"
   ]
  },
  {
   "cell_type": "code",
   "execution_count": 1,
   "metadata": {},
   "outputs": [],
   "source": [
    "%matplotlib inline"
   ]
  },
  {
   "cell_type": "markdown",
   "metadata": {},
   "source": [
    "The full documentation for Matplotlib magic functions is [here](https://ipython.readthedocs.io/en/stable/interactive/magics.html#magic-matplotlib)."
   ]
  },
  {
   "cell_type": "markdown",
   "metadata": {},
   "source": [
    "### Timing programs"
   ]
  },
  {
   "cell_type": "markdown",
   "metadata": {},
   "source": [
    "We can use magic commands to time our programs. This is particularly useful when investigating the performance of different implementations."
   ]
  },
  {
   "cell_type": "markdown",
   "metadata": {},
   "source": [
    "#### Simple timing"
   ]
  },
  {
   "cell_type": "markdown",
   "metadata": {},
   "source": [
    "The magic command [`%time`](https://ipython.readthedocs.io/en/stable/interactive/magics.html?highlight=timeit#magic-time) is used to time parts of a program. We just add\n",
    "\n",
    "```python\n",
    "%time\n",
    "```\n",
    "\n",
    "in front of the function call we wish to time, and the time taken will be displayed. Below is an example:"
   ]
  },
  {
   "cell_type": "code",
   "execution_count": 3,
   "metadata": {},
   "outputs": [
    {
     "name": "stdout",
     "output_type": "stream",
     "text": [
      "Wall time: 56.9 ms\n"
     ]
    }
   ],
   "source": [
    "def f(x):\n",
    "    s = \"\"\n",
    "    for _ in range(x):\n",
    "        s += \" \"\n",
    "    return s\n",
    "\n",
    "%time p = f(100000)"
   ]
  },
  {
   "cell_type": "markdown",
   "metadata": {},
   "source": [
    "Usually we are interested in the `Wall time`, which is the real (wall clock) time elapsed to run the function."
   ]
  },
  {
   "cell_type": "markdown",
   "metadata": {},
   "source": [
    "#### Detailed timing"
   ]
  },
  {
   "cell_type": "markdown",
   "metadata": {},
   "source": [
    "Sometimes we want to get the time as a variable, for example to produce a plot of time versus problem size.\n",
    "In this case we use [`%timeit`](https://ipython.readthedocs.io/en/stable/interactive/magics.html?highlight=timeit#magic-timeit).\n",
    "\n",
    "`%timeit` has a number of options, including:\n",
    "\n",
    "- `-o`: Return a `TimeitResult` variable that we can query\n",
    "- `-q`: Quiet (suppress output)\n",
    "- `-n`: Number of times to run code\n",
    "- `-r`: How many times to run `timeit`\n",
    "\n",
    "The return value can be queried in several ways. Below are examples."
   ]
  },
  {
   "cell_type": "code",
   "execution_count": 4,
   "metadata": {},
   "outputs": [
    {
     "name": "stdout",
     "output_type": "stream",
     "text": [
      "Best time: 0.5823632000000316\n",
      "624 ms ± 20.9 ms per loop (mean ± std. dev. of 2 runs, 3 loops each)\n",
      "Time for all runs: [1.80815240000004, 1.933306000000016]\n",
      "Time for best runs: 0.60271746666668\n"
     ]
    }
   ],
   "source": [
    "# Problem size to test\n",
    "N = 1000000\n",
    "\n",
    "# Time the command 'p = f(N)' once, suppressing output (-q).\n",
    "t = %timeit -o -n1 -r1 -q p = f(N)\n",
    "\n",
    "# Get best (only) timing\n",
    "print(\"Best time: {}\".format(t.best))\n",
    "\n",
    "# Time the command 'p = f(N)' twice, calling three times each (not quiet)\n",
    "t = %timeit -o -n3 -r2 p = f(N)\n",
    "\n",
    "# Get results of all runs as a list (length will be 2 since we used -r2)\n",
    "print(\"Time for all runs: {}\".format(t.all_runs))\n",
    "\n",
    "# Best time will be 1/3 (since we used of lowest value in t.all_runs\n",
    "print(\"Time for best runs: {}\".format(t.best))"
   ]
  }
 ],
 "metadata": {
  "kernelspec": {
   "display_name": "Python 3",
   "language": "python",
   "name": "python3"
  },
  "language_info": {
   "codemirror_mode": {
    "name": "ipython",
    "version": 3
   },
   "file_extension": ".py",
   "mimetype": "text/x-python",
   "name": "python",
   "nbconvert_exporter": "python",
   "pygments_lexer": "ipython3",
   "version": "3.7.7"
  }
 },
 "nbformat": 4,
 "nbformat_minor": 4
}
