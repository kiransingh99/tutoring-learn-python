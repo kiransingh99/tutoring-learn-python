{
 "cells": [
  {
   "cell_type": "markdown",
   "metadata": {},
   "source": [
    "# 3. Exercises: Types, type conversions and floating point arithmetic"
   ]
  },
  {
   "cell_type": "markdown",
   "metadata": {},
   "source": [
    "## Exercise 03.1"
   ]
  },
  {
   "cell_type": "markdown",
   "metadata": {},
   "source": [
    "Compare the computed values of\n",
    "\n",
    "$$d_0 = a\\cdot b + a\\cdot c$$\n",
    "\n",
    "and\n",
    "\n",
    "$$d_1 = a\\cdot\\left(b+c\\right)$$\n",
    "\n",
    "when $a=100$, $b=0.1$ and $c=0.2$. Store $d_0$ in the variable ```d0``` and $d_1$ in the variable ```d1```.\n",
    "\n",
    "Try checking for equality, e.g. ```print(d0 == d1)```"
   ]
  },
  {
   "cell_type": "code",
   "execution_count": null,
   "metadata": {},
   "outputs": [],
   "source": [
    "# YOUR CODE HERE\n",
    "raise NotImplementedError()"
   ]
  },
  {
   "cell_type": "code",
   "execution_count": null,
   "metadata": {},
   "outputs": [],
   "source": [
    "assert d0 == 30.0\n",
    "assert d1 != 30.0\n",
    "assert d0 != d1"
   ]
  },
  {
   "cell_type": "markdown",
   "metadata": {},
   "source": [
    "## Exercise 03.2"
   ]
  },
  {
   "cell_type": "markdown",
   "metadata": {},
   "source": [
    "For the polynomial\n",
    "\n",
    "$$\\begin{align*}\n",
    "f(x, y) &= (x + y)^{6}\n",
    "\\\\\n",
    "&=  x^6 + 6x^{5}y + 15x^{4}y^{2} + 20x^{3}y^{3} + 15x^{2}y^{4} + 6xy^{5} + y^{6}\n",
    "\\end{align*}$$\n",
    "\n",
    "compute $f$ using (i) the compact form $(x+y)^6$, and (ii) the expanded form, for:\n",
    "\n",
    "(a) $x=10$ and $y=10.1$\n",
    "(b) $x=10$ and $y=-10.1$\n",
    "\n",
    "and compare the number of significant digits for which the answers are the same. Store the answer for the compact version using the variable ```f0```, and using the variable ```f1``` for the expanded version.\n",
    "\n",
    "For case (b), compare the computed and analytical solutions and consider the relative error. Which approach would you recommend for computing this expression?"
   ]
  },
  {
   "cell_type": "markdown",
   "metadata": {},
   "source": [
    "### (a) $x=10$ and $y=10.1$"
   ]
  },
  {
   "cell_type": "code",
   "execution_count": null,
   "metadata": {},
   "outputs": [],
   "source": [
    "# YOUR CODE HERE\n",
    "raise NotImplementedError()"
   ]
  },
  {
   "cell_type": "code",
   "execution_count": null,
   "metadata": {},
   "outputs": [],
   "source": [
    "import math\n",
    "assert math.isclose(f0, 65944160.60120103, rel_tol=1e-10)\n",
    "assert math.isclose(f1, 65944160.601201, rel_tol=1e-10)"
   ]
  },
  {
   "cell_type": "markdown",
   "metadata": {},
   "source": [
    "### (a) $x=10$ and $y=-10.1$"
   ]
  },
  {
   "cell_type": "code",
   "execution_count": null,
   "metadata": {},
   "outputs": [],
   "source": [
    "# YOUR CODE HERE\n",
    "raise NotImplementedError()"
   ]
  },
  {
   "cell_type": "code",
   "execution_count": null,
   "metadata": {},
   "outputs": [],
   "source": [
    "import math\n",
    "assert math.isclose(f0, 1.0e-6, rel_tol=1e-10)\n",
    "assert math.isclose(f1, 1.0e-6, rel_tol=1e-2)"
   ]
  },
  {
   "cell_type": "markdown",
   "metadata": {},
   "source": [
    "## Exercise 03.3"
   ]
  },
  {
   "cell_type": "markdown",
   "metadata": {},
   "source": [
    "Consider the expression\n",
    "\n",
    "$$f=\\frac{1}{\\sqrt{x^2-1}-x}$$\n",
    "\n",
    "When $x$ is very large, the denominator approaches zero, which can cause problems.\n",
    "\n",
    "Try rephrasing the problem and eliminating the fraction by multiplying the numerator and denominator by $\\sqrt{x^2-1}+x$ and evaluate the two versions of the expression when:\n",
    "\n",
    "(a) $x=1 \\times 10^7$\n",
    "\n",
    "(b) $x=1 \\times 10^9$ (You may get a Python error for this case. Why?)"
   ]
  },
  {
   "cell_type": "markdown",
   "metadata": {},
   "source": [
    "### (a) $x=1 \\times 10^7$"
   ]
  },
  {
   "cell_type": "code",
   "execution_count": null,
   "metadata": {},
   "outputs": [],
   "source": [
    "# YOUR CODE HERE\n",
    "raise NotImplementedError()"
   ]
  },
  {
   "cell_type": "markdown",
   "metadata": {},
   "source": [
    "### (b) $x=1 \\times 10^8$"
   ]
  },
  {
   "cell_type": "code",
   "execution_count": null,
   "metadata": {},
   "outputs": [],
   "source": [
    "# YOUR CODE HERE\n",
    "raise NotImplementedError()"
   ]
  }
 ],
 "metadata": {
  "interpreter": {
   "hash": "01f139f06680331c19aeaba26688dba45234c5fc4176058c2178ac70640604d9"
  },
  "kernelspec": {
   "display_name": "Python 3.7.7 64-bit ('base': conda)",
   "language": "python",
   "name": "python3"
  },
  "language_info": {
   "codemirror_mode": {
    "name": "ipython",
    "version": 3
   },
   "file_extension": ".py",
   "mimetype": "text/x-python",
   "name": "python",
   "nbconvert_exporter": "python",
   "pygments_lexer": "ipython3",
   "version": "3.7.7"
  },
  "orig_nbformat": 4
 },
 "nbformat": 4,
 "nbformat_minor": 2
}
