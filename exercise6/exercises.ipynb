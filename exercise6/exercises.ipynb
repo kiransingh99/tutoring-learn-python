{
 "cells": [
  {
   "cell_type": "markdown",
   "metadata": {},
   "source": [
    "# 6. Exercises: Data structures"
   ]
  },
  {
   "cell_type": "markdown",
   "metadata": {},
   "source": [
    "## Exercise 06.1"
   ]
  },
  {
   "cell_type": "markdown",
   "metadata": {
    "deletable": false,
    "editable": false,
    "nbgrader": {
     "cell_type": "markdown",
     "checksum": "8969a6543eebd1c7db89a71bb75e61ee",
     "grade": false,
     "grade_id": "cell-7b3313f25bceb7a2",
     "locked": true,
     "schema_version": 3,
     "solution": false
    }
   },
   "source": [
    "The task in Exercise 04 for computing the area of a triangle involved a function with six arguments ($x$ and $y$ components of each vertex). With six arguments, the likelihood of a user passing arguments in the wrong order is high.\n",
    "\n",
    "Use appropriate data structures, e.g. ```list```s, ```tuple```s, ```dict```s, etc,  to develop a new version of the function with a simpler interface (the interface is the arguments that are passed to the function). Add appropriate checks inside your function to validate the input data."
   ]
  },
  {
   "cell_type": "code",
   "execution_count": null,
   "metadata": {
    "deletable": false,
    "nbgrader": {
     "cell_type": "code",
     "checksum": "93c53f411edb621595bc865f6c79cbaf",
     "grade": false,
     "grade_id": "cell-50c4566d7bcbffaf",
     "locked": false,
     "schema_version": 3,
     "solution": true
    }
   },
   "outputs": [],
   "source": [
    "def area_lists(v0, v1, v2):\n",
    "    \"\"\"Calculate area of a triangle, given the vertices, using lists for each coordinate.\"\"\"\n",
    "    \"\"\"Each vertex must be a list of form [x_coordinate, y_coordinate]\"\"\"\n",
    "    ans = abs(v0[0]*(v1[1]-v2[1]) + v1[0]*(v2[1]-v0[1])+v2[0]*(v0[1]-v1[1]))/2\n",
    "    return ans\n",
    "\n",
    "def area_tuples(v0, v1, v2):\n",
    "    \"\"\"Calculate area of a triangle, given the vertices, using tuples for each coordinate.\"\"\"\n",
    "    \"\"\"Each vertex must be a tuple of form (x_coordinate, y_coordinate)\"\"\"\n",
    "    ans = abs(v0[0]*(v1[1]-v2[1]) + v1[0]*(v2[1]-v0[1])+v2[0]*(v0[1]-v1[1]))/2\n",
    "    return ans\n",
    "\n",
    "def area_dicts(v0, v1, v2):\n",
    "    \"\"\"Calculate area of a triangle, given the vertices, using dicts for each coordinate.\"\"\"\n",
    "    \"\"\"Each vertex must be a dict of form {\"x\": x_coordinate, \"y\": y_coordinate}\"\"\"\n",
    "    ans = abs(v0[\"x\"]*(v1[\"y\"]-v2[\"y\"]) + v1[\"x\"]*(v2[\"y\"]-v0[\"y\"])+v2[\"x\"]*(v0[\"y\"]-v1[\"y\"]))/2\n",
    "    return ans"
   ]
  },
  {
   "cell_type": "markdown",
   "metadata": {},
   "source": [
    "### Optional extension"
   ]
  },
  {
   "cell_type": "markdown",
   "metadata": {},
   "source": [
    "Have a go at implementing your own tests, using the data structures that your function requires.\n",
    "\n",
    "*Hint*: Look at the tests used in Exercise 04."
   ]
  },
  {
   "cell_type": "code",
   "execution_count": null,
   "metadata": {},
   "outputs": [],
   "source": [
    "v0 = [0.0, 0.0]\n",
    "v1 = [0.0, 2.0]\n",
    "v2 = [3.0, 0.0]\n",
    "A = area_lists(v0, v1, v2)\n",
    "assert round(A - 3.0, 10) == 0.0"
   ]
  },
  {
   "cell_type": "markdown",
   "metadata": {},
   "source": [
    "## Exercise 06.2"
   ]
  },
  {
   "cell_type": "markdown",
   "metadata": {
    "deletable": false,
    "editable": false,
    "nbgrader": {
     "cell_type": "markdown",
     "checksum": "538793e1776653182d193a7700588461",
     "grade": false,
     "grade_id": "cell-5065052af9989fdf",
     "locked": true,
     "schema_version": 3,
     "solution": false
    }
   },
   "source": [
    "For a simple (non-intersecting) polygon with $n$ vertices, $(x_0, y_0)$, $(x_1, y_1)$, . . , $(x_{n-1}, y_{n-1})$, the area $A$ is given by\n",
    "\n",
    "$$ A = \\left| \\frac{1}{2} \\sum_{i=0}^{n-1} \\left(x_{i} y _{i+1} - x_{i+1} y_{i} \\right) \\right|$$\n",
    "and where $(x_n, y_n) = (x_0, y_0)$. The vertices should be ordered as you move around the polygon.\n",
    "\n",
    "Write a function that computes the area of a simple polygon with an arbitrary number of vertices. Test your function for some simple shapes. Pay careful attention to the range of any loops."
   ]
  },
  {
   "cell_type": "code",
   "execution_count": null,
   "metadata": {
    "deletable": false,
    "nbgrader": {
     "cell_type": "code",
     "checksum": "3c6fe94718310475d875ec60534199eb",
     "grade": false,
     "grade_id": "cell-4b5a619405787746",
     "locked": false,
     "schema_version": 3,
     "solution": true
    }
   },
   "outputs": [],
   "source": [
    "def area(list_of_vertex_tuples):\n",
    "    \"\"\"Computes area of a simple n sided polygon, given a vertex coordinates, given as a list of (x,y) tuples.\"\"\"\n",
    "    A = 0\n",
    "    for i in range(0, len(list_of_vertex_tuples)):\n",
    "        v_i = list_of_vertex_tuples[i]\n",
    "        v_ip1 = list_of_vertex_tuples[(i+1) % len(list_of_vertex_tuples)]\n",
    "        A += 0.5 * abs(v_i[0] * v_ip1[1] - v_ip1[0] * v_i[1])\n",
    "\n",
    "    return A"
   ]
  },
  {
   "cell_type": "markdown",
   "metadata": {},
   "source": [
    "## Exercise 06.3"
   ]
  },
  {
   "cell_type": "markdown",
   "metadata": {
    "deletable": false,
    "editable": false,
    "nbgrader": {
     "cell_type": "markdown",
     "checksum": "31a71dcd54f996f2f798df30114b9faf",
     "grade": false,
     "grade_id": "cell-ced99a38c7bbe7a0",
     "locked": true,
     "schema_version": 3,
     "solution": false
    }
   },
   "source": [
    "Write a function that uses list indexing to add two vectors of arbitrary length, and returns the new vector. Include a check that the vector sizes match, and print a warning message if there is a size mismatch. The more error information you provide, the easier it would be for someone using your function to debug their code.\n",
    "\n",
    "Add some tests of your code.\n",
    "\n",
    "*Hint: You can create a list of zeros of length ```n``` by*\n",
    "\n",
    "```python\n",
    "    z = [0]*n\n",
    "```"
   ]
  },
  {
   "cell_type": "code",
   "execution_count": null,
   "metadata": {
    "deletable": false,
    "nbgrader": {
     "cell_type": "code",
     "checksum": "66ea7d534bb1cbabf82dbcbb69e4dd02",
     "grade": false,
     "grade_id": "cell-47daca03f7a96b62",
     "locked": false,
     "schema_version": 3,
     "solution": true
    }
   },
   "outputs": [],
   "source": [
    "def sum_vector(x, y):\n",
    "    \"Return sum of two vectors\"\n",
    "    if len(x) != len(y):\n",
    "        print(\"Uh oh... the two vectors have different sizes ({} and {})\".format(len(x), len(y)))\n",
    "    else:\n",
    "        ans = [0] * len(x)\n",
    "        for i in range(len(x)):\n",
    "            ans[i] = x[i] + y[i]\n",
    "\n",
    "        return ans"
   ]
  },
  {
   "cell_type": "code",
   "execution_count": null,
   "metadata": {
    "deletable": false,
    "editable": false,
    "nbgrader": {
     "cell_type": "code",
     "checksum": "9b3d802cdb7440be47952667335f5cc7",
     "grade": true,
     "grade_id": "cell-95f5819810d2b2c7",
     "locked": true,
     "points": 0,
     "schema_version": 3,
     "solution": false
    }
   },
   "outputs": [],
   "source": [
    "a = [0, 4.3, -5, 7]\n",
    "b = [-2, 7, -15, 1]\n",
    "c = sum_vector(a, b)\n",
    "assert c == [-2, 11.3, -20, 8]"
   ]
  },
  {
   "cell_type": "markdown",
   "metadata": {},
   "source": [
    "### Optional (advanced)"
   ]
  },
  {
   "cell_type": "markdown",
   "metadata": {},
   "source": [
    "Try writing a one-line version of this operation using list comprehension and the built-in function [`zip`](https://docs.python.org/3/library/functions.html#zip). Store the answer in a variable called ```d```."
   ]
  },
  {
   "cell_type": "code",
   "execution_count": null,
   "metadata": {
    "deletable": false,
    "nbgrader": {
     "cell_type": "code",
     "checksum": "3ace0d343b7871c30f7776e20669bf3e",
     "grade": true,
     "grade_id": "cell-c182b3f0d8952692",
     "locked": false,
     "points": 0,
     "schema_version": 3,
     "solution": true
    }
   },
   "outputs": [],
   "source": [
    "d = [i+j for i, j in zip(a, b)]"
   ]
  },
  {
   "cell_type": "code",
   "execution_count": null,
   "metadata": {},
   "outputs": [],
   "source": [
    "d = sum_vector(a, b)\n",
    "assert d == [-2, 11.3, -20, 8]"
   ]
  },
  {
   "cell_type": "markdown",
   "metadata": {},
   "source": [
    "## Exercise 06.4"
   ]
  },
  {
   "cell_type": "markdown",
   "metadata": {},
   "source": [
    "Create a dictionary that maps names of players on sports teams (the key) to the team they play for, for at least 5 athletes. From the dictionary, produce and print:\n",
    "\n",
    "1. A dictionary from player to team; and\n",
    "1. A list of player names sorted into alphabetical order."
   ]
  },
  {
   "cell_type": "code",
   "execution_count": null,
   "metadata": {
    "deletable": false,
    "nbgrader": {
     "cell_type": "code",
     "checksum": "892cc4fd98d0f8cc393eff925b5d6b13",
     "grade": false,
     "grade_id": "cell-bc271dc3885e19c5",
     "locked": false,
     "schema_version": 3,
     "solution": true
    }
   },
   "outputs": [],
   "source": [
    "players = {\n",
    "    \"Justin Fields\": \"Bears\",\n",
    "    \"Patrick Mahomes\": \"Chiefs\",\n",
    "    \"Bruce Irvin\": \"Bears\",\n",
    "    \"Tom Brady\": \"Buccaneers\",\n",
    "    \"Joe Burrow\": \"Bengals\"\n",
    "}\n",
    "\n",
    "names = sorted([name for name in players.keys()])\n",
    "print(names)"
   ]
  },
  {
   "cell_type": "markdown",
   "metadata": {
    "deletable": false,
    "editable": false,
    "nbgrader": {
     "cell_type": "markdown",
     "checksum": "ee373920fe2377cf230967db220ba75a",
     "grade": false,
     "grade_id": "cell-45d2551a524193b0",
     "locked": true,
     "schema_version": 3,
     "solution": false
    }
   },
   "source": [
    "### Optional extension"
   ]
  },
  {
   "cell_type": "markdown",
   "metadata": {},
   "source": [
    "Create a dictionary that maps the names of players on sports teams (the key) to dictionaries of:\n",
    "\n",
    "- The team they play for\n",
    "- Year of birth\n",
    "- Any numerical statistic e.g. goals scored, races won, etc.\n",
    "\n",
    "for at least 5 athletes. Using this dictionary,\n",
    "\n",
    "1. Find the athlete with the greatest *statistic* and print their year of birth.\n",
    "2. Find the oldest athlete, and print the numerical statistic and their year of birth."
   ]
  },
  {
   "cell_type": "code",
   "execution_count": null,
   "metadata": {
    "deletable": false,
    "nbgrader": {
     "cell_type": "code",
     "checksum": "683b2dc107d00c494b6c163c5ab6cfa8",
     "grade": false,
     "grade_id": "cell-7040c4053c72ce09",
     "locked": false,
     "schema_version": 3,
     "solution": true
    }
   },
   "outputs": [],
   "source": [
    "players = {\n",
    "    \"Justin Fields\": {\"Team\": \"Bears\", \"Year\": 1999, \"Touchdowns\": 9},\n",
    "    \"Patrick Mahomes\": {\"Team\": \"Chiefs\", \"Year\": 1995, \"Touchdowns\": 145},\n",
    "    \"Russell Wilson\": {\"Team\":\"Seahawks\", \"Year\": 1988, \"Touchdowns\": 307},\n",
    "    \"Tom Brady\": {\"Team\": \"Buccaneers\", \"Year\": 1977, \"Touchdowns\": 645},\n",
    "    \"Joe Burrow\": {\"Team\": \"Bengals\", \"Year\": 1996, \"Touchdowns\": 48},\n",
    "}\n",
    "\n",
    "max = 0\n",
    "for p in players:\n",
    "    player = players[p]\n",
    "    if player[\"Touchdowns\"] > max:\n",
    "        year_of_birth = player[\"Year\"]\n",
    "\n",
    "print(year_of_birth)\n",
    "\n",
    "year = 2022\n",
    "for p in players:\n",
    "    player = players[p]\n",
    "    if player[\"Year\"] < year:\n",
    "        touchdowns = player[\"Touchdowns\"]\n",
    "        year_of_birth = player[\"Year\"]\n",
    "\n",
    "print(touchdowns, year_of_birth)"
   ]
  }
 ],
 "metadata": {
  "kernelspec": {
   "display_name": "Python 3",
   "language": "python",
   "name": "python3"
  },
  "language_info": {
   "codemirror_mode": {
    "name": "ipython",
    "version": 3
   },
   "file_extension": ".py",
   "mimetype": "text/x-python",
   "name": "python",
   "nbconvert_exporter": "python",
   "pygments_lexer": "ipython3",
   "version": "3.7.7"
  }
 },
 "nbformat": 4,
 "nbformat_minor": 4
}
