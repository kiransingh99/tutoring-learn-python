{
 "cells": [
  {
   "cell_type": "markdown",
   "metadata": {},
   "source": [
    "# 5. Exercises: Library functions"
   ]
  },
  {
   "cell_type": "markdown",
   "metadata": {},
   "source": [
    "## Exercise 05.1"
   ]
  },
  {
   "cell_type": "markdown",
   "metadata": {
    "deletable": false,
    "editable": false,
    "nbgrader": {
     "cell_type": "markdown",
     "checksum": "78bec42b97a384da1258851020c6e40a",
     "grade": false,
     "grade_id": "cell-430d835796356075",
     "locked": true,
     "schema_version": 3,
     "solution": false
    }
   },
   "source": [
    "- Using the ```randint``` function from the ```random``` module (https://docs.python.org/3/library/random.html#random.randint), develop a function ```dice_roll``` that emulates the roll of a dice with $n$ sides.\n",
    "\n",
    "- For $n=6$, devise and implement a test to check that it is a fair dice."
   ]
  },
  {
   "cell_type": "markdown",
   "metadata": {
    "deletable": false,
    "editable": false,
    "nbgrader": {
     "cell_type": "markdown",
     "checksum": "61e2a56d004d8d8ae67a9fcdfd923411",
     "grade": false,
     "grade_id": "cell-12092bd5f2adea76",
     "locked": true,
     "schema_version": 3,
     "solution": false
    }
   },
   "source": [
    "#### (a) Dice roll code:"
   ]
  },
  {
   "cell_type": "code",
   "execution_count": null,
   "metadata": {
    "deletable": false,
    "nbgrader": {
     "cell_type": "code",
     "checksum": "4bf12682ccd10675634d0e03f8d9e03f",
     "grade": false,
     "grade_id": "cell-70a83466894475ee",
     "locked": false,
     "schema_version": 3,
     "solution": true
    }
   },
   "outputs": [],
   "source": [
    "import random\n",
    "\n",
    "# YOUR CODE HERE\n",
    "raise NotImplementedError()"
   ]
  },
  {
   "cell_type": "code",
   "execution_count": null,
   "metadata": {
    "deletable": false,
    "editable": false,
    "nbgrader": {
     "cell_type": "code",
     "checksum": "cc96b22a27a50764737999a68f55cee7",
     "grade": true,
     "grade_id": "cell-0970743b0c035f78",
     "locked": true,
     "points": 0,
     "schema_version": 3,
     "solution": false
    }
   },
   "outputs": [],
   "source": [
    "for i in range(1, 20):\n",
    "    for j in range(100):\n",
    "        value = dice_roll(i)\n",
    "        assert value >= 1 and value <= i"
   ]
  },
  {
   "cell_type": "markdown",
   "metadata": {
    "deletable": false,
    "editable": false,
    "nbgrader": {
     "cell_type": "markdown",
     "checksum": "d5b750f62a69a71bfde95d5766edb830",
     "grade": false,
     "grade_id": "cell-8fd8c957cbce8e91",
     "locked": true,
     "schema_version": 3,
     "solution": false
    }
   },
   "source": [
    "#### (b) Test for fairness"
   ]
  },
  {
   "cell_type": "code",
   "execution_count": null,
   "metadata": {
    "deletable": false,
    "nbgrader": {
     "cell_type": "code",
     "checksum": "3efa13bd797422d747fe0f35cd3668d5",
     "grade": true,
     "grade_id": "cell-0826760c62c21bff",
     "locked": false,
     "points": 0,
     "schema_version": 3,
     "solution": true
    }
   },
   "outputs": [],
   "source": [
    "# YOUR CODE HERE\n",
    "raise NotImplementedError()"
   ]
  },
  {
   "cell_type": "markdown",
   "metadata": {},
   "source": [
    "## Exercise 05.2"
   ]
  },
  {
   "cell_type": "markdown",
   "metadata": {
    "deletable": false,
    "editable": false,
    "nbgrader": {
     "cell_type": "markdown",
     "checksum": "36bcc27ebc5dd171db48bb5806f8aaf6",
     "grade": false,
     "grade_id": "cell-007e984f33e27da1",
     "locked": true,
     "schema_version": 3,
     "solution": false
    }
   },
   "source": [
    "For devices with limited memory, data compression can be important. Data compression is a field of its own, but with libraries we can compress (and uncompress) data easily without being expert in the details.\n",
    "\n",
    "Below is a program code for compressing a passage from Hamlet, by Shakespeare."
   ]
  },
  {
   "cell_type": "code",
   "execution_count": null,
   "metadata": {
    "deletable": false,
    "editable": false,
    "nbgrader": {
     "cell_type": "code",
     "checksum": "76fd7da1deb076195800c6277428ff17",
     "grade": false,
     "grade_id": "cell-3c2032bdba4a917a",
     "locked": true,
     "schema_version": 3,
     "solution": false
    }
   },
   "outputs": [],
   "source": [
    "# Import the compression module\n",
    "import zlib\n",
    "\n",
    "# Create a string that we wish to compress\n",
    "text = \"\"\"\n",
    "Welcome, dear Rosencrantz and Guildenstern!\n",
    "Moreover that we much did long to see you,\n",
    "The need we have to use you did provoke\n",
    "Our hasty sending. Something have you heard\n",
    "Of Hamlet's transformation; so call it,\n",
    "Sith nor the exterior nor the inward man\n",
    "Resembles that it was. What it should be,\n",
    "More than his father's death, that thus hath put him\n",
    "So much from the understanding of himself,\n",
    "I cannot dream of: I entreat you both,\n",
    "That, being of so young days brought up with him,\n",
    "And sith so neighbour'd to his youth and havior,\n",
    "That you vouchsafe your rest here in our court\n",
    "Some little time: so by your companies\n",
    "To draw him on to pleasures, and to gather,\n",
    "So much as from occasion you may glean,\n",
    "Whether aught, to us unknown, afflicts him thus,\n",
    "That, open'd, lies within our remedy.\"\"\"\n",
    "\n",
    "# Convert Python string to bytes and check type\n",
    "text_bytes = text.encode(\"utf-8\")\n",
    "print(type(text_bytes))\n",
    "\n",
    "# Get number of bytes used to store string\n",
    "print(\"Number of bytes for uncompressed string:\", len(text_bytes))\n",
    "\n",
    "# Compress string and get number of byes used for compressed string\n",
    "text_comp = zlib.compress(text_bytes)\n",
    "print(\"Number of bytes for compressed string:\", len(text_comp))\n",
    "\n",
    "# Display the compression efficiency\n",
    "print(\"Compression efficiency: \", len(text_comp)/len(text_bytes))\n",
    "\n",
    "# Decompress the string\n",
    "text_decomp = zlib.decompress(text_comp)\n",
    "\n",
    "# Check that original and decompressed string are the same (more on assert)\n",
    "if text != text_decomp.decode(\"utf-8\"):\n",
    "    print(\"Problem: original and decompressed string differ.\")"
   ]
  },
  {
   "cell_type": "markdown",
   "metadata": {
    "deletable": false,
    "editable": false,
    "nbgrader": {
     "cell_type": "markdown",
     "checksum": "0fe54aee845d95687889dc19b435ba77",
     "grade": false,
     "grade_id": "cell-f80062a015942c13",
     "locked": true,
     "schema_version": 3,
     "solution": false
    }
   },
   "source": [
    "Using the above as a guide, examine the compression efficiency of:\n",
    "\n",
    "1. Compressing one large string made up of the the passage by Shakespeare repeated 100 times; and\n",
    "2. Compressing a random string of the same length as the repeated Shakespeare passage."
   ]
  },
  {
   "cell_type": "code",
   "execution_count": null,
   "metadata": {
    "deletable": false,
    "editable": false,
    "nbgrader": {
     "cell_type": "code",
     "checksum": "28a57abbb021d924834ef4705e0f90bb",
     "grade": false,
     "grade_id": "cell-6e2a283ca091e187",
     "locked": true,
     "schema_version": 3,
     "solution": false
    }
   },
   "outputs": [],
   "source": [
    "import random\n",
    "import string\n",
    "\n",
    "# Shakespeare string\n",
    "text = \"\"\"\n",
    "Welcome, dear Rosencrantz and Guildenstern!\n",
    "Moreover that we much did long to see you,\n",
    "The need we have to use you did provoke\n",
    "Our hasty sending. Something have you heard\n",
    "Of Hamlet's transformation; so call it,\n",
    "Sith nor the exterior nor the inward man\n",
    "Resembles that it was. What it should be,\n",
    "More than his father's death, that thus hath put him\n",
    "So much from the understanding of himself,\n",
    "I cannot dream of: I entreat you both,\n",
    "That, being of so young days brought up with him,\n",
    "And sith so neighbour'd to his youth and havior,\n",
    "That you vouchsafe your rest here in our court\n",
    "Some little time: so by your companies\n",
    "To draw him on to pleasures, and to gather,\n",
    "So much as from occasion you may glean,\n",
    "Whether aught, to us unknown, afflicts him thus,\n",
    "That, open'd, lies within our remedy.\"\"\"\n",
    "\n",
    "def random_string(N):\n",
    "    \"\"\"Generates a random string of length 'N'\"\"\"\n",
    "    return ''.join([random.choice(string.ascii_letters + string.digits) for n in range(N)])\n",
    "\n",
    "print(random_string(8))"
   ]
  },
  {
   "cell_type": "code",
   "execution_count": null,
   "metadata": {
    "deletable": false,
    "editable": false,
    "nbgrader": {
     "cell_type": "code",
     "checksum": "1f92d1231c21a688b037ef6d9cc9294a",
     "grade": false,
     "grade_id": "cell-93be06c0b8818e9e",
     "locked": true,
     "schema_version": 3,
     "solution": false
    }
   },
   "outputs": [],
   "source": [
    "\"\"\"Import the necessary modules\"\"\"\n",
    "import random\n",
    "import string\n",
    "import zlib\n",
    "\n",
    "\"\"\"Repeat the Shakespeare string 100 times and compress\"\"\"\n",
    "# YOUR CODE HERE\n",
    "raise NotImplementedError()\n",
    "\n",
    "\"\"\"Create random string and compress\"\"\"\n",
    "# YOUR CODE HERE\n",
    "raise NotImplementedError()\n",
    "\n",
    "\"\"\"Compare compression efficiency\"\"\"\n",
    "# YOUR CODE HERE\n",
    "raise NotImplementedError()"
   ]
  }
 ],
 "metadata": {
  "kernelspec": {
   "display_name": "Python 3",
   "language": "python",
   "name": "python3"
  },
  "language_info": {
   "codemirror_mode": {
    "name": "ipython",
    "version": 3
   },
   "file_extension": ".py",
   "mimetype": "text/x-python",
   "name": "python",
   "nbconvert_exporter": "python",
   "pygments_lexer": "ipython3",
   "version": "3.7.7"
  }
 },
 "nbformat": 4,
 "nbformat_minor": 4
}
