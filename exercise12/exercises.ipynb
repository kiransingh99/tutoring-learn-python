{
 "cells": [
  {
   "cell_type": "markdown",
   "metadata": {},
   "source": [
    "# 12. Exercises: Object-Oriented Design"
   ]
  },
  {
   "cell_type": "markdown",
   "metadata": {},
   "source": [
    "## Exercise 12.1"
   ]
  },
  {
   "cell_type": "markdown",
   "metadata": {},
   "source": [
    "Create a class to represent vectors of arbitrary length and which is initialised with a list of values, e.g.:\n",
    "\n",
    "```python\n",
    "x = MyVector([0, 2, 4])\n",
    "```\n",
    "\n",
    "Equip the class with methods that:\n",
    "\n",
    "1. Return the length of the vector (method name `size`)\n",
    "2. Compute the norm of the vector $\\sqrt{x \\cdot x}$ (method name `norm`)\n",
    "3. Compute the dot product of the vector with another vector (method name `dot`)\n",
    "\n",
    "Test your implementation using two vectors of length 3. To help you get started, a skeleton of the class is provided below. Don't forget to use `self` where necessary."
   ]
  },
  {
   "cell_type": "code",
   "execution_count": null,
   "metadata": {},
   "outputs": [],
   "source": [
    "import math\n",
    "\n",
    "class MyVector:\n",
    "    \"\"\"A vector object that can return its size and norm, and can compute the dot product with another vector.\"\"\"\n",
    "\n",
    "    def __init__(self, x):\n",
    "        self.x = x\n",
    "\n",
    "    def size(self):\n",
    "        \"\"\"Return length of vector.\"\"\"\n",
    "        return len(self.x)\n",
    "\n",
    "    def __getitem__(self, index):\n",
    "        \"\"\"This allows access by index, e.g. y[2].\"\"\"\n",
    "        return self.x[index]\n",
    "\n",
    "    def norm(self):\n",
    "        \"\"\"Return norm of vector.\"\"\"\n",
    "        dot_product = self.dot(self)\n",
    "        return math.sqrt(dot_product)\n",
    "\n",
    "    def dot(self, other):\n",
    "        \"\"\"Return dot product of vector with another vector.\"\"\"\n",
    "        assert(self.size() == other.size())\n",
    "        total = 0\n",
    "        for x, y in zip(self.x, other):\n",
    "            total += x * y\n",
    "        return total"
   ]
  },
  {
   "cell_type": "code",
   "execution_count": null,
   "metadata": {
    "deletable": false,
    "editable": false,
    "nbgrader": {
     "cell_type": "code",
     "checksum": "1ed85d56501ddc8dc87d5784a25a3580",
     "grade": true,
     "grade_id": "cell-b601b5cc8cf8ab44",
     "locked": true,
     "points": 0,
     "schema_version": 3,
     "solution": false
    }
   },
   "outputs": [],
   "source": [
    "# Create two vectors\n",
    "u = MyVector([1, 1, 2])\n",
    "v = MyVector([2, 1, 1])\n",
    "\n",
    "assert u.size() == 3\n",
    "assert round(u.norm() - 2.449489742783178) == 0.0\n",
    "assert round(u.dot(v) - 5.0, 10) == 0.0"
   ]
  },
  {
   "cell_type": "markdown",
   "metadata": {},
   "source": [
    "## Exercise 12.2"
   ]
  },
  {
   "cell_type": "markdown",
   "metadata": {
    "deletable": false,
    "editable": false,
    "nbgrader": {
     "cell_type": "markdown",
     "checksum": "5da545895b150f78744a35c41d6eb9f4",
     "grade": false,
     "grade_id": "cell-d743191a516ffa05",
     "locked": true,
     "schema_version": 3,
     "solution": false
    }
   },
   "source": [
    "1. Create a class for holding a student record entry. It should have the following attributes:\n",
    "   - Surname\n",
    "   - Forename\n",
    "   - Birth year\n",
    "   - Graduation year\n",
    "   - University\n",
    "   - Username (optional field)\n",
    "\n",
    "2. Equip your class with the method '`age`' that returns the age of the student in whole years\n",
    "\n",
    "3. Equip your class with the method '`__repr__`' such using `print` on a student record displays with the format\n",
    "\n",
    "       Surname: Bloggs, Forename: Andrea, University: Cambridge\n",
    "\n",
    "4. Equip your class with the method `__lt__(self, other)` so that a list of record entries can be sorted by (surname, forename) using the Python built-in sort function.\n",
    "\n",
    "   Create a list of entries and test the sorting. Make sure you have two entries with the same surname.\n",
    "\n",
    "> Recall that the methods starting with `__`, e.g. `__lt__` and `__repr__`, should **not** be called directly.\n",
    "> Python with map them to other operations, e.g. `__repr__` is called when using `print`, and `__lt__` is called when using `<`. These functions must have a return value.\n",
    "\n",
    "*Hint:* To get the current year:"
   ]
  },
  {
   "cell_type": "code",
   "execution_count": null,
   "metadata": {},
   "outputs": [],
   "source": [
    "import datetime\n",
    "year = datetime.date.today().year\n",
    "print(year)"
   ]
  },
  {
   "cell_type": "code",
   "execution_count": null,
   "metadata": {
    "deletable": false,
    "nbgrader": {
     "cell_type": "code",
     "checksum": "254313b9c258e03732f4a60e5dee0b78",
     "grade": false,
     "grade_id": "cell-6e857f6089fe0ba8",
     "locked": false,
     "schema_version": 3,
     "solution": true
    }
   },
   "outputs": [],
   "source": [
    "class StudentEntry:\n",
    "    def __init__(self, surname, forename, birth_year, year, university, username=None):\n",
    "        self.surname = surname\n",
    "        self.forename = forename\n",
    "        self.birth_year = birth_year\n",
    "        self.year = year\n",
    "        self.university = university\n",
    "        self.username = username\n",
    "\n",
    "    def __repr__(self):\n",
    "        return (\n",
    "            f\"Surname: {self.surname}, \"\n",
    "            f\"Forename: {self.forename}, \"\n",
    "            f\"University: {self.university}\"\n",
    "        )\n",
    "\n",
    "    def __lt__(self, other):\n",
    "        if (self.surname < other.surname or\n",
    "            self.surname == other.surname and self.forename < other.forename):\n",
    "            return True\n",
    "        else:\n",
    "            return False\n",
    "\n",
    "    def age(self):\n",
    "        return datetime.date.today().year - self.birth_year"
   ]
  },
  {
   "cell_type": "code",
   "execution_count": null,
   "metadata": {
    "deletable": false,
    "editable": false,
    "nbgrader": {
     "cell_type": "code",
     "checksum": "d60f32b3e00d631930ecf9478a0336bb",
     "grade": true,
     "grade_id": "cell-ce8aafb3e627dd86",
     "locked": true,
     "points": 0,
     "schema_version": 3,
     "solution": false
    }
   },
   "outputs": [],
   "source": [
    "s0 = StudentEntry(\"Bloggs\", \"Andrea\", 1996, 1, \"Cambridge\", \"ab1001\")\n",
    "s1 = StudentEntry(\"Reali\", \"John\", 1997, 1, \"UCL\")\n",
    "s2 = StudentEntry(\"Bacon\", \"Kevin\", 1996, 1, \"QMUL\")\n",
    "s3 = StudentEntry(\"Bacon\", \"Alexander\", 1996, 1, \"Southampton\")\n",
    "\n",
    "assert s0 < s1\n",
    "assert s0 > s2\n",
    "assert s3 < s2\n",
    "assert s0.age() ==  datetime.date.today().year - 1996\n",
    "assert s1.age() ==  datetime.date.today().year - 1997\n",
    "assert str(s1) == \"Surname: Reali, Forename: John, University: UCL\"\n",
    "\n",
    "# Test sorting\n",
    "s = [s0, s1, s2, s3]\n",
    "s.sort()\n",
    "for earlier, later in zip(s, s[1:]):\n",
    "    assert earlier.surname <= later.surname\n",
    "    if earlier.surname == later.surname:\n",
    "        assert earlier.forename <= later.forename"
   ]
  }
 ],
 "metadata": {
  "kernelspec": {
   "display_name": "Python 3",
   "language": "python",
   "name": "python3"
  },
  "language_info": {
   "codemirror_mode": {
    "name": "ipython",
    "version": 3
   },
   "file_extension": ".py",
   "mimetype": "text/x-python",
   "name": "python",
   "nbconvert_exporter": "python",
   "pygments_lexer": "ipython3",
   "version": "3.7.7"
  }
 },
 "nbformat": 4,
 "nbformat_minor": 4
}
